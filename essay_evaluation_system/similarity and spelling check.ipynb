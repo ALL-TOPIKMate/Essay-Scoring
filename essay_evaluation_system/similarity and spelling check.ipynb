{
  "nbformat": 4,
  "nbformat_minor": 0,
  "metadata": {
    "colab": {
      "provenance": []
    },
    "kernelspec": {
      "name": "python3",
      "display_name": "Python 3"
    },
    "language_info": {
      "name": "python"
    }
  },
  "cells": [
    {
      "cell_type": "markdown",
      "source": [
        "# 문장간 유사도 검사"
      ],
      "metadata": {
        "id": "e3VGCNa6Txnj"
      }
    },
    {
      "cell_type": "code",
      "execution_count": null,
      "metadata": {
        "colab": {
          "base_uri": "https://localhost:8080/",
          "height": 562
        },
        "id": "XVgYkdQt0wb7",
        "outputId": "3ccc77dc-d54e-45e4-b321-99305b77b776"
      },
      "outputs": [
        {
          "output_type": "stream",
          "name": "stdout",
          "text": [
            "Requirement already satisfied: scikit-learn in /usr/local/lib/python3.10/dist-packages (1.2.2)\n",
            "Collecting scikit-learn\n",
            "  Downloading scikit_learn-1.3.0-cp310-cp310-manylinux_2_17_x86_64.manylinux2014_x86_64.whl (10.8 MB)\n",
            "\u001b[2K     \u001b[90m━━━━━━━━━━━━━━━━━━━━━━━━━━━━━━━━━━━━━━━━\u001b[0m \u001b[32m10.8/10.8 MB\u001b[0m \u001b[31m76.4 MB/s\u001b[0m eta \u001b[36m0:00:00\u001b[0m\n",
            "\u001b[?25hRequirement already satisfied: numpy>=1.17.3 in /usr/local/lib/python3.10/dist-packages (from scikit-learn) (1.22.4)\n",
            "Requirement already satisfied: scipy>=1.5.0 in /usr/local/lib/python3.10/dist-packages (from scikit-learn) (1.10.1)\n",
            "Requirement already satisfied: joblib>=1.1.1 in /usr/local/lib/python3.10/dist-packages (from scikit-learn) (1.3.1)\n",
            "Requirement already satisfied: threadpoolctl>=2.0.0 in /usr/local/lib/python3.10/dist-packages (from scikit-learn) (3.1.0)\n",
            "Installing collected packages: scikit-learn\n",
            "  Attempting uninstall: scikit-learn\n",
            "    Found existing installation: scikit-learn 1.2.2\n",
            "    Uninstalling scikit-learn-1.2.2:\n",
            "      Successfully uninstalled scikit-learn-1.2.2\n",
            "Successfully installed scikit-learn-1.3.0\n"
          ]
        },
        {
          "output_type": "display_data",
          "data": {
            "application/vnd.colab-display-data+json": {
              "pip_warning": {
                "packages": [
                  "sklearn"
                ]
              }
            }
          },
          "metadata": {}
        },
        {
          "output_type": "stream",
          "name": "stdout",
          "text": [
            "Collecting konlpy\n",
            "  Downloading konlpy-0.6.0-py2.py3-none-any.whl (19.4 MB)\n",
            "\u001b[2K     \u001b[90m━━━━━━━━━━━━━━━━━━━━━━━━━━━━━━━━━━━━━━━━\u001b[0m \u001b[32m19.4/19.4 MB\u001b[0m \u001b[31m62.6 MB/s\u001b[0m eta \u001b[36m0:00:00\u001b[0m\n",
            "\u001b[?25hCollecting JPype1>=0.7.0 (from konlpy)\n",
            "  Downloading JPype1-1.4.1-cp310-cp310-manylinux_2_12_x86_64.manylinux2010_x86_64.whl (465 kB)\n",
            "\u001b[2K     \u001b[90m━━━━━━━━━━━━━━━━━━━━━━━━━━━━━━━━━━━━━━━\u001b[0m \u001b[32m465.3/465.3 kB\u001b[0m \u001b[31m2.4 MB/s\u001b[0m eta \u001b[36m0:00:00\u001b[0m\n",
            "\u001b[?25hRequirement already satisfied: lxml>=4.1.0 in /usr/local/lib/python3.10/dist-packages (from konlpy) (4.9.3)\n",
            "Requirement already satisfied: numpy>=1.6 in /usr/local/lib/python3.10/dist-packages (from konlpy) (1.22.4)\n",
            "Requirement already satisfied: packaging in /usr/local/lib/python3.10/dist-packages (from JPype1>=0.7.0->konlpy) (23.1)\n",
            "Installing collected packages: JPype1, konlpy\n",
            "Successfully installed JPype1-1.4.1 konlpy-0.6.0\n"
          ]
        }
      ],
      "source": [
        "!pip install -U scikit-learn\n",
        "!pip install konlpy"
      ]
    },
    {
      "cell_type": "code",
      "source": [
        "from sklearn.feature_extraction.text import TfidfVectorizer\n",
        "import konlpy\n",
        "from konlpy.tag import Okt\n",
        "t = Okt()\n",
        "\n",
        "vectorizer = TfidfVectorizer(min_df = 1, decode_error = 'ignore')\n",
        "\n",
        "def sentence_token(contents):\n",
        "  contents_tokens = [t.morphs(row) for row in contents]\n",
        "\n",
        "  contents_for_vectorize = []\n",
        "  for content in contents_tokens:\n",
        "    sentence = ''\n",
        "    for word in content:\n",
        "      sentence = sentence + ' ' + word\n",
        "    contents_for_vectorize.append(sentence)\n",
        "\n",
        "  #tf-idf 벡터화\n",
        "  X = vectorizer.fit_transform(contents_for_vectorize)\n",
        "  num_samples, num_features = X.shape\n",
        "  print(num_samples, num_features)\n",
        "  return X\n"
      ],
      "metadata": {
        "id": "WmpR5hyV3kKN"
      },
      "execution_count": null,
      "outputs": []
    },
    {
      "cell_type": "code",
      "source": [
        "def new_token(new_post):\n",
        "  new_post_tokens = [t.morphs(row) for row in new_post]\n",
        "  new_post_for_vectorize = []\n",
        "  for content in new_post_tokens:\n",
        "    sentence = ''\n",
        "    for word in content:\n",
        "      sentence = sentence + ' ' + word\n",
        "    new_post_for_vectorize.append(sentence)\n",
        "  new_post_vec = vectorizer.transform(new_post_for_vectorize)\n",
        "  print(new_post_for_vectorize)\n",
        "  return new_post_vec"
      ],
      "metadata": {
        "id": "q44SOKuT5TAr"
      },
      "execution_count": null,
      "outputs": []
    },
    {
      "cell_type": "code",
      "source": [
        "import scipy as sp\n",
        "def dist_raw(v1,v2):\n",
        "  delta = v1 - v2\n",
        "  return sp.linalg.norm(delta.toarray())"
      ],
      "metadata": {
        "id": "nKUF2P0_-o8S"
      },
      "execution_count": null,
      "outputs": []
    },
    {
      "cell_type": "code",
      "source": [
        "def check_distance(X, new_post_vec, contents):\n",
        "  best_doc = None\n",
        "  best_dist = 65535\n",
        "  best_i = None\n",
        "  result = []\n",
        "  for i in range(len(contents)):\n",
        "    post_vec = X.getrow(i)\n",
        "    d = dist_raw(post_vec, new_post_vec)\n",
        "    #print(d)\n",
        "    print('== Post %i with dist = %.2f : %s' %(i,d, contents[i]))\n",
        "    if d < best_dist:\n",
        "      best_dist = d\n",
        "      best_i = i\n",
        "      result = []\n",
        "    if d == best_dist:\n",
        "      result.append(contents[i])\n",
        "  return best_i, best_dist, result"
      ],
      "metadata": {
        "id": "GQ88m5eK7Lbi"
      },
      "execution_count": null,
      "outputs": []
    },
    {
      "cell_type": "code",
      "source": [
        "contents = [\n",
        "    \"작년 대비 소비자물가가 33% 증가했다.\",\n",
        "    \"작년 대비 소비자물가가 33%증가했다.\",\n",
        "    \"작년 대비 소비자물가가 15% 증가했다.\",\n",
        "    \"내 나이는 올해 33살이다.\",\n",
        "    \"문방구가서 펜 33개만 사와줄래?\",\n",
        "    \"소비자물가가 크게 오를 전망이다.\",\n",
        "    \"작년에 비해 소비자물가가 증가했다.\",\n",
        "    \"작년에 비해 소비자물가가 33% 증가했다.\"\n",
        "]\n",
        "new_post = [\"작년 대비 소비자물가가 33% 증가했다.\"]\n",
        "\n",
        "X = sentence_token(contents)\n",
        "new_post_vec = new_token(new_post)\n",
        "best_i, best_dist, result = check_distance(X, new_post_vec, contents)\n",
        "print(\"Best post is %i, dist=%.2f\" %(best_i, best_dist))\n",
        "print('-->', new_post)\n",
        "print('---->', contents[best_i])"
      ],
      "metadata": {
        "colab": {
          "base_uri": "https://localhost:8080/"
        },
        "id": "oiI6yb3D8VL9",
        "outputId": "973a2555-8622-44d5-9e49-430b2dda2a22"
      },
      "execution_count": null,
      "outputs": [
        {
          "output_type": "stream",
          "name": "stdout",
          "text": [
            "8 19\n",
            "[' 작년 대비 소비자 물가 가 33% 증가 했다 .']\n",
            "== Post 0 with dist = 0.00 : 작년 대비 소비자물가가 33% 증가했다.\n",
            "== Post 1 with dist = 0.00 : 작년 대비 소비자물가가 33%증가했다.\n",
            "== Post 2 with dist = 0.70 : 작년 대비 소비자물가가 15% 증가했다.\n",
            "== Post 3 with dist = 1.33 : 내 나이는 올해 33살이다.\n",
            "== Post 4 with dist = 1.33 : 문방구가서 펜 33개만 사와줄래?\n",
            "== Post 5 with dist = 1.30 : 소비자물가가 크게 오를 전망이다.\n",
            "== Post 6 with dist = 0.83 : 작년에 비해 소비자물가가 증가했다.\n",
            "== Post 7 with dist = 0.72 : 작년에 비해 소비자물가가 33% 증가했다.\n",
            "Best post is 0, dist=0.00\n",
            "--> ['작년 대비 소비자물가가 33% 증가했다.']\n",
            "----> 작년 대비 소비자물가가 33% 증가했다.\n"
          ]
        }
      ]
    },
    {
      "cell_type": "markdown",
      "source": [
        "# 네이버 맞춤법 검사기"
      ],
      "metadata": {
        "id": "Cu4tB0IlT5y5"
      }
    },
    {
      "cell_type": "code",
      "source": [
        "!pip install git+https://github.com/ssut/py-hanspell.git"
      ],
      "metadata": {
        "colab": {
          "base_uri": "https://localhost:8080/"
        },
        "id": "atPkBqCJT9xb",
        "outputId": "6b6e84f1-289c-4652-be86-4179b7e8b4cf"
      },
      "execution_count": null,
      "outputs": [
        {
          "output_type": "stream",
          "name": "stdout",
          "text": [
            "Collecting git+https://github.com/ssut/py-hanspell.git\n",
            "  Cloning https://github.com/ssut/py-hanspell.git to /tmp/pip-req-build-46wpsglf\n",
            "  Running command git clone --filter=blob:none --quiet https://github.com/ssut/py-hanspell.git /tmp/pip-req-build-46wpsglf\n",
            "  Resolved https://github.com/ssut/py-hanspell.git to commit fdc6ca50c19f1c85971437a072d89d4e5ce024b8\n",
            "  Preparing metadata (setup.py) ... \u001b[?25l\u001b[?25hdone\n",
            "Requirement already satisfied: requests in /usr/local/lib/python3.10/dist-packages (from py-hanspell==1.1) (2.27.1)\n",
            "Requirement already satisfied: urllib3<1.27,>=1.21.1 in /usr/local/lib/python3.10/dist-packages (from requests->py-hanspell==1.1) (1.26.16)\n",
            "Requirement already satisfied: certifi>=2017.4.17 in /usr/local/lib/python3.10/dist-packages (from requests->py-hanspell==1.1) (2023.5.7)\n",
            "Requirement already satisfied: charset-normalizer~=2.0.0 in /usr/local/lib/python3.10/dist-packages (from requests->py-hanspell==1.1) (2.0.12)\n",
            "Requirement already satisfied: idna<4,>=2.5 in /usr/local/lib/python3.10/dist-packages (from requests->py-hanspell==1.1) (3.4)\n",
            "Building wheels for collected packages: py-hanspell\n",
            "  Building wheel for py-hanspell (setup.py) ... \u001b[?25l\u001b[?25hdone\n",
            "  Created wheel for py-hanspell: filename=py_hanspell-1.1-py3-none-any.whl size=4810 sha256=4115644bfbc92ebb6bfd87290895186b1e16d9b9a96692080edfb74db4694ad3\n",
            "  Stored in directory: /tmp/pip-ephem-wheel-cache-fu_jefsl/wheels/2e/43/cc/753c9e1d91affb9ea40e186cea5654fb9231deb454da6724e5\n",
            "Successfully built py-hanspell\n",
            "Installing collected packages: py-hanspell\n",
            "Successfully installed py-hanspell-1.1\n"
          ]
        }
      ]
    },
    {
      "cell_type": "code",
      "source": [
        "from hanspell import spell_checker\n",
        "def spell_checking(result):\n",
        "  for i in range(len(result)):\n",
        "    test = spell_checker.check(result[i]) #각 사용자 답안별로 확인\n",
        "    test = test.as_dict()\n",
        "    for word, error in test['words'].items():\n",
        "      if error == 0:\n",
        "          print(f\"{word}: 통과\")\n",
        "      elif error == 1:\n",
        "          print(f\"{word}: 맞춤법에 문제가 있는 단어 또는 구절\")\n",
        "      elif error == 2:\n",
        "          print(f\"{word}: 띄어쓰기에 문제가 있는 단어 또는 구절\")\n",
        "      elif error == 3:\n",
        "          print(f\"{word}: 표준어가 의심되는 단어 또는 구절\")\n",
        "      elif error == 4:\n",
        "          print(f\"{word}: 통계적 교정에 따른 단어 또는 구절\")\n",
        "    print('=====')\n",
        "spell_checking(result)"
      ],
      "metadata": {
        "colab": {
          "base_uri": "https://localhost:8080/"
        },
        "id": "Gi6lrmg5UKJ1",
        "outputId": "bdf6d41d-8813-409e-c985-26ab802d1f9e"
      },
      "execution_count": null,
      "outputs": [
        {
          "output_type": "stream",
          "name": "stdout",
          "text": [
            "작년: 통과\n",
            "대비: 통과\n",
            "소비자물가가: 통과\n",
            "33%: 통과\n",
            "증가했다.: 통과\n",
            "=====\n",
            "작년: 통과\n",
            "대비: 통과\n",
            "소비자물가가: 통과\n",
            "33%: 띄어쓰기에 문제가 있는 단어 또는 구절\n",
            "증가했다.: 띄어쓰기에 문제가 있는 단어 또는 구절\n",
            "=====\n"
          ]
        }
      ]
    },
    {
      "cell_type": "code",
      "source": [
        "contents = ['''인주시의 자전거 이용자 변화를 살펴보면, 자전거 이용자 수는 2007년 4만 명에서 2012년에는 9만 명, 2017년에는 21만 명으로, 지난 10년간 약 5배 증가하였다.\n",
        "  특히 2012년분터 2017년까지 자전거 이용하는 사람수가 급증한 것으로 나타났다. 이와 같이 자전거 이용자 수가 증가한 이유는 자전거 도로가 개발돼고 자전거 빌리는 곳이 홝대됐기 때문인 것으로 보인다.\n",
        "  자전거 이용 목적을 보면, 10년간 운동 과 산책은 4배, 출퇴근은 14배, 기타는 3배 늘어난 것으로 나타났으며, 출퇴근시 이용이 가장 높은 증가율을 보였다.''']\n",
        "\n",
        "new_post = ['''인주시의 자전거 이용자 변화를 살펴보면, 자전거 이용자 수는 2007년 4만 명에서 2012년에는 9만명, 2017년에는 21만명으로, 지난 10년간 약 5배 증가하였다.\n",
        "  특히 2012년분터 2017년까지 자전거 이용자 수가 급증한 것으로 나타났다. 이와 같이 자전거 이용자 수가 증가한 이유는 자전거 도로가 개발되고 자전거 빌리는 곳이 확대되었기 때문인 것으로 보인다.\n",
        "  자전거 이용 목적을 보면, 10년간 운동 및 산책은 4배, 출퇴근은 14배, 기타는 3배 늘어난 것으로 나타났으며, 출퇴근 시 이용이 가장 높은 증가율을 보였다.''']\n",
        "\n",
        "X = sentence_token(contents)\n",
        "new_post_vec = new_token(new_post)\n",
        "best_i, best_dist, result = check_distance(X, new_post_vec, contents)\n",
        "print(\"Best post is %i, dist=%.2f\" %(best_i, best_dist))\n",
        "print('-->', new_post)\n",
        "print('---->', contents[best_i])"
      ],
      "metadata": {
        "colab": {
          "base_uri": "https://localhost:8080/"
        },
        "id": "Opqtwvo_Z0o4",
        "outputId": "cc678e71-18a6-44b7-d9d4-fad09f306729"
      },
      "execution_count": null,
      "outputs": [
        {
          "output_type": "stream",
          "name": "stdout",
          "text": [
            "1 48\n",
            "[' 인주시의 자전거 이용자 변화 를 살펴보면 , 자전거 이용자 수 는 2007년 4만 명 에서 2012년 에는 9만 명 , 2017년 에는 21만 명으로 , 지난 10년 간 약 5 배 증가 하였다 . \\n   특히 2012년 분터 2017년 까지 자전거 이용자 수가 급증 한 것 으로 나타났다 . 이 와 같이 자전거 이용자 수가 증가 한 이유 는 자전거 도로 가 개발 되고 자전거 빌리는 곳 이 확대 되었기 때문 인 것 으로 보인다 . \\n   자전거 이용 목적 을 보면 , 10년 간 운동 및 산책 은 4 배 , 출퇴근 은 14 배 , 기타 는 3 배 늘어난 것 으로 나타났으며 , 출퇴근 시 이용 이 가장 높은 증가 율 을 보였다 .']\n",
            "== Post 0 with dist = 0.22 : 인주시의 자전거 이용자 변화를 살펴보면, 자전거 이용자 수는 2007년 4만 명에서 2012년에는 9만 명, 2017년에는 21만 명으로, 지난 10년간 약 5배 증가하였다.\n",
            "  특히 2012년분터 2017년까지 자전거 이용하는 사람수가 급증한 것으로 나타났다. 이와 같이 자전거 이용자 수가 증가한 이유는 자전거 도로가 개발돼고 자전거 빌리는 곳이 홝대됐기 때문인 것으로 보인다.\n",
            "  자전거 이용 목적을 보면, 10년간 운동 과 산책은 4배, 출퇴근은 14배, 기타는 3배 늘어난 것으로 나타났으며, 출퇴근시 이용이 가장 높은 증가율을 보였다.\n",
            "Best post is 0, dist=0.22\n",
            "--> ['인주시의 자전거 이용자 변화를 살펴보면, 자전거 이용자 수는 2007년 4만 명에서 2012년에는 9만명, 2017년에는 21만명으로, 지난 10년간 약 5배 증가하였다.\\n  특히 2012년분터 2017년까지 자전거 이용자 수가 급증한 것으로 나타났다. 이와 같이 자전거 이용자 수가 증가한 이유는 자전거 도로가 개발되고 자전거 빌리는 곳이 확대되었기 때문인 것으로 보인다.\\n  자전거 이용 목적을 보면, 10년간 운동 및 산책은 4배, 출퇴근은 14배, 기타는 3배 늘어난 것으로 나타났으며, 출퇴근 시 이용이 가장 높은 증가율을 보였다.']\n",
            "----> 인주시의 자전거 이용자 변화를 살펴보면, 자전거 이용자 수는 2007년 4만 명에서 2012년에는 9만 명, 2017년에는 21만 명으로, 지난 10년간 약 5배 증가하였다.\n",
            "  특히 2012년분터 2017년까지 자전거 이용하는 사람수가 급증한 것으로 나타났다. 이와 같이 자전거 이용자 수가 증가한 이유는 자전거 도로가 개발돼고 자전거 빌리는 곳이 홝대됐기 때문인 것으로 보인다.\n",
            "  자전거 이용 목적을 보면, 10년간 운동 과 산책은 4배, 출퇴근은 14배, 기타는 3배 늘어난 것으로 나타났으며, 출퇴근시 이용이 가장 높은 증가율을 보였다.\n"
          ]
        }
      ]
    },
    {
      "cell_type": "code",
      "source": [
        "print(result[0])"
      ],
      "metadata": {
        "colab": {
          "base_uri": "https://localhost:8080/"
        },
        "id": "eyNI-FsEbSFA",
        "outputId": "24e8a319-4526-4f29-80b3-dc941db6cc89"
      },
      "execution_count": null,
      "outputs": [
        {
          "output_type": "stream",
          "name": "stdout",
          "text": [
            "인주시의 자전거 이용자 변화를 살펴보면, 자전거 이용자 수는 2007년 4만 명에서 2012년에는 9만 명, 2017년에는 21만 명으로, 지난 10년간 약 5배 증가하였다.\n",
            "  특히 2012년분터 2017년까지 자전거 이용하는 사람수가 급증한 것으로 나타났다. 이와 같이 자전거 이용자 수가 증가한 이유는 자전거 도로가 개발돼고 자전거 빌리는 곳이 홝대됐기 때문인 것으로 보인다.\n",
            "  자전거 이용 목적을 보면, 10년간 운동 과 산책은 4배, 출퇴근은 14배, 기타는 3배 늘어난 것으로 나타났으며, 출퇴근시 이용이 가장 높은 증가율을 보였다.\n"
          ]
        }
      ]
    },
    {
      "cell_type": "markdown",
      "source": [
        "# 부산대 맞춤법 검사기"
      ],
      "metadata": {
        "id": "j-3zNiUSBgif"
      }
    },
    {
      "cell_type": "code",
      "source": [
        "def split_sentence(text):\n",
        "  sentences = text.split('.')\n",
        "  result = []\n",
        "  current_sentence = sentences[0]\n",
        "  for sentence in sentences[1:]:\n",
        "    if len(current_sentence) + len(sentence) < 500:\n",
        "      current_sentence += '. ' + sentence\n",
        "    else:\n",
        "      result.append(current_sentence)\n",
        "      current_sentence = sentence\n",
        "  result.append(current_sentence)\n",
        "  return result"
      ],
      "metadata": {
        "id": "rMFedfOLc2xk"
      },
      "execution_count": null,
      "outputs": []
    },
    {
      "cell_type": "code",
      "source": [
        "result_split = split_sentence(result[0])"
      ],
      "metadata": {
        "id": "JcJekuK_d3jO"
      },
      "execution_count": null,
      "outputs": []
    },
    {
      "cell_type": "code",
      "source": [
        "print(result_split[0])"
      ],
      "metadata": {
        "colab": {
          "base_uri": "https://localhost:8080/"
        },
        "id": "yDJW1EL6fo0z",
        "outputId": "6653bf29-7244-4145-b2e6-22076576489c"
      },
      "execution_count": null,
      "outputs": [
        {
          "output_type": "stream",
          "name": "stdout",
          "text": [
            "인주시의 자전거 이용자 변화를 살펴보면, 자전거 이용자 수는 2007년 4만 명에서 2012년에는 9만 명, 2017년에는 21만 명으로, 지난 10년간 약 5배 증가하였다. \n",
            "  특히 2012년분터 2017년까지 자전거 이용하는 사람수가 급증한 것으로 나타났다.  이와 같이 자전거 이용자 수가 증가한 이유는 자전거 도로가 개발돼고 자전거 빌리는 곳이 홝대됐기 때문인 것으로 보인다. \n",
            "  자전거 이용 목적을 보면, 10년간 운동 과 산책은 4배, 출퇴근은 14배, 기타는 3배 늘어난 것으로 나타났으며, 출퇴근시 이용이 가장 높은 증가율을 보였다. \n"
          ]
        }
      ]
    },
    {
      "cell_type": "code",
      "source": [
        "import requests\n",
        "import json\n",
        "\n",
        "for i in range(len(result_split)):\n",
        "  results = result_split[i].replace('\\n', '\\r\\n')\n",
        "\n",
        "  response = requests.post('http://164.125.7.61/speller/results', data={'text1': results})\n",
        "\n",
        "  data = response.text.split('data = [', 1)[-1].rsplit('];', 1)[0]\n",
        "\n",
        "  data = json.loads(data)\n",
        "\n",
        "\n",
        "  for err in data['errInfo']:\n",
        "      print(f\"입력 내용 : {err['orgStr']}\")\n",
        "      print(f\"대치어 : {err['candWord']}\")\n",
        "      print(f\"도움말 : {err['help']}\") #여기 apos; 나오고 <br/>이런거 나오는데 혹시 수정해야되면 메시지 작성 바람.\n",
        "      print(\"\\n\")"
      ],
      "metadata": {
        "colab": {
          "base_uri": "https://localhost:8080/"
        },
        "id": "MChibi_xjI26",
        "outputId": "9988a851-6d43-4dcd-9102-c6b5b87d5bdc"
      },
      "execution_count": null,
      "outputs": [
        {
          "output_type": "stream",
          "name": "stdout",
          "text": [
            "입력 내용 : 인주시의\n",
            "대치어 : 인주 시의|인주기의\n",
            "도움말 : 철자 검사를 해 보니 이 어절은 분석할 수 없으므로 틀린 말로 판단하였습니다.<br/><br/>후보 어절은 이 철자검사/교정기에서 띄어쓰기, 붙여 쓰기, 음절대치와 같은 교정방법에 따라 수정한 결과입니다.<br/><br/>후보 어절 중 선택하시거나 오류 어절을 수정하여 주십시오.<br/><br/>* 단, 사전에 없는 단어이거나 사용자가 올바르다고 판단한 어절에 대해서는 통과하세요!!\n",
            "\n",
            "\n",
            "입력 내용 : 2012년분터\n",
            "대치어 : 2012년부터\n",
            "도움말 : 조사 오류입니다.\n",
            "\n",
            "\n",
            "입력 내용 : 사람수가\n",
            "대치어 : 사람 수가\n",
            "도움말 : &apos;수&apos;는 &apos;숫자&apos;의 준말로 앞 단어가 &apos;수&apos;를 꾸미는 역할을 합니다. 두 단어 사이에 관형격 조사 &apos;의&apos;를 넣을 수 있으므로 띄어 써야 바릅니다.\n",
            "\n",
            "\n",
            "입력 내용 : 개발돼고\n",
            "대치어 : 개발됐고|개발되고|개발돼도\n",
            "도움말 : 어미의 사용이 잘못되었습니다. 문서 작성시 필요에 의해 잘못된 어미를 제시하는 상황이 아니라면 검사기의 대치어로 바꾸도록 합니다.\n",
            "\n",
            "\n",
            "입력 내용 : 홝대됐기\n",
            "대치어 : 확대됐기\n",
            "도움말 : 입력 오류입니다.\n",
            "\n",
            "\n",
            "입력 내용 : 때문인 것으로\n",
            "대치어 : 때문으로\n",
            "도움말 : &apos;-인 것&apos;, &apos;-할 것&apos; 등은 확실힌 명제를 뜻없이 격식화한 표현입니다. 이런 표현은 자신의 주장을 남의 일처럼 말하는 격이므로 좋은 표현이 아닙니다. 그러므로 문맥에 적절한 표현으로 바꾸어 쓰십시오.\n",
            "\n",
            "\n",
            "입력 내용 : 운동 과\n",
            "대치어 : 운동과\n",
            "도움말 : 명사 다음에 붙는 공동격 조사를 쓸 때, 받침이 없을 때는 &apos;와&apos;를 쓰고, 있을 때는 &apos;과&apos;를 써야 바릅니다. 또한 조사는 앞에 오는 명사와 붙여 써야 바릅니다.\n",
            "\n",
            "\n",
            "입력 내용 : 출퇴근시\n",
            "대치어 : 출퇴근 시|출퇴근 때|출퇴근할 때\n",
            "도움말 : 동작 명사 뒤에 오는 &apos;중&apos;과 &apos;시&apos;를 접미사로 보는 학자도 있습니다만 표준국어대사전[국립국어원]은 의존명사로 봅니다. 이 시스템은 되도록 표준국어대사전[국립국어원]을 따릅니다. 또한 &apos;시&apos;는 되도록 &apos;때&apos;로 고쳐 쓰면 좋습니다.\n",
            "\n",
            "\n"
          ]
        }
      ]
    }
  ]
}