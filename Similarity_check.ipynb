{
  "nbformat": 4,
  "nbformat_minor": 0,
  "metadata": {
    "colab": {
      "provenance": []
    },
    "kernelspec": {
      "name": "python3",
      "display_name": "Python 3"
    },
    "language_info": {
      "name": "python"
    }
  },
  "cells": [
    {
      "cell_type": "markdown",
      "source": [
        "# 문장간 유사도 검사"
      ],
      "metadata": {
        "id": "e3VGCNa6Txnj"
      }
    },
    {
      "cell_type": "code",
      "execution_count": 3,
      "metadata": {
        "colab": {
          "base_uri": "https://localhost:8080/"
        },
        "id": "XVgYkdQt0wb7",
        "outputId": "9fd270eb-497c-4fae-fa27-172bc4dfc2e0"
      },
      "outputs": [
        {
          "output_type": "stream",
          "name": "stdout",
          "text": [
            "Requirement already satisfied: scikit-learn in /usr/local/lib/python3.10/dist-packages (1.2.2)\n",
            "Collecting scikit-learn\n",
            "  Downloading scikit_learn-1.3.0-cp310-cp310-manylinux_2_17_x86_64.manylinux2014_x86_64.whl (10.8 MB)\n",
            "\u001b[2K     \u001b[90m━━━━━━━━━━━━━━━━━━━━━━━━━━━━━━━━━━━━━━━━\u001b[0m \u001b[32m10.8/10.8 MB\u001b[0m \u001b[31m53.2 MB/s\u001b[0m eta \u001b[36m0:00:00\u001b[0m\n",
            "\u001b[?25hRequirement already satisfied: numpy>=1.17.3 in /usr/local/lib/python3.10/dist-packages (from scikit-learn) (1.22.4)\n",
            "Requirement already satisfied: scipy>=1.5.0 in /usr/local/lib/python3.10/dist-packages (from scikit-learn) (1.10.1)\n",
            "Requirement already satisfied: joblib>=1.1.1 in /usr/local/lib/python3.10/dist-packages (from scikit-learn) (1.3.1)\n",
            "Requirement already satisfied: threadpoolctl>=2.0.0 in /usr/local/lib/python3.10/dist-packages (from scikit-learn) (3.2.0)\n",
            "Installing collected packages: scikit-learn\n",
            "  Attempting uninstall: scikit-learn\n",
            "    Found existing installation: scikit-learn 1.2.2\n",
            "    Uninstalling scikit-learn-1.2.2:\n",
            "      Successfully uninstalled scikit-learn-1.2.2\n",
            "Successfully installed scikit-learn-1.3.0\n",
            "Collecting konlpy\n",
            "  Downloading konlpy-0.6.0-py2.py3-none-any.whl (19.4 MB)\n",
            "\u001b[2K     \u001b[90m━━━━━━━━━━━━━━━━━━━━━━━━━━━━━━━━━━━━━━━━\u001b[0m \u001b[32m19.4/19.4 MB\u001b[0m \u001b[31m65.0 MB/s\u001b[0m eta \u001b[36m0:00:00\u001b[0m\n",
            "\u001b[?25hCollecting JPype1>=0.7.0 (from konlpy)\n",
            "  Downloading JPype1-1.4.1-cp310-cp310-manylinux_2_12_x86_64.manylinux2010_x86_64.whl (465 kB)\n",
            "\u001b[2K     \u001b[90m━━━━━━━━━━━━━━━━━━━━━━━━━━━━━━━━━━━━━━\u001b[0m \u001b[32m465.3/465.3 kB\u001b[0m \u001b[31m46.8 MB/s\u001b[0m eta \u001b[36m0:00:00\u001b[0m\n",
            "\u001b[?25hRequirement already satisfied: lxml>=4.1.0 in /usr/local/lib/python3.10/dist-packages (from konlpy) (4.9.3)\n",
            "Requirement already satisfied: numpy>=1.6 in /usr/local/lib/python3.10/dist-packages (from konlpy) (1.22.4)\n",
            "Requirement already satisfied: packaging in /usr/local/lib/python3.10/dist-packages (from JPype1>=0.7.0->konlpy) (23.1)\n",
            "Installing collected packages: JPype1, konlpy\n",
            "Successfully installed JPype1-1.4.1 konlpy-0.6.0\n"
          ]
        }
      ],
      "source": [
        "!pip install -U scikit-learn\n",
        "!pip install konlpy"
      ]
    },
    {
      "cell_type": "code",
      "source": [
        "from sklearn.feature_extraction.text import TfidfVectorizer\n",
        "import konlpy\n",
        "from konlpy.tag import Okt\n",
        "t = Okt()\n",
        "\n",
        "vectorizer = TfidfVectorizer(min_df = 1, decode_error = 'ignore')\n",
        "\n",
        "def sentence_token(contents):\n",
        "  contents_tokens = [t.morphs(row) for row in contents]\n",
        "\n",
        "  contents_for_vectorize = []\n",
        "  for content in contents_tokens:\n",
        "    sentence = ''\n",
        "    for word in content:\n",
        "      sentence = sentence + ' ' + word\n",
        "    contents_for_vectorize.append(sentence)\n",
        "\n",
        "  #tf-idf 벡터화\n",
        "  X = vectorizer.fit_transform(contents_for_vectorize)\n",
        "  num_samples, num_features = X.shape\n",
        "  print(num_samples, num_features)\n",
        "  return X\n"
      ],
      "metadata": {
        "id": "WmpR5hyV3kKN"
      },
      "execution_count": 4,
      "outputs": []
    },
    {
      "cell_type": "code",
      "source": [
        "def new_token(new_post):\n",
        "  new_post_tokens = [t.morphs(row) for row in new_post]\n",
        "  new_post_for_vectorize = []\n",
        "  for content in new_post_tokens:\n",
        "    sentence = ''\n",
        "    for word in content:\n",
        "      sentence = sentence + ' ' + word\n",
        "    new_post_for_vectorize.append(sentence)\n",
        "  new_post_vec = vectorizer.transform(new_post_for_vectorize)\n",
        "  print(new_post_for_vectorize)\n",
        "  return new_post_vec"
      ],
      "metadata": {
        "id": "q44SOKuT5TAr"
      },
      "execution_count": 5,
      "outputs": []
    },
    {
      "cell_type": "code",
      "source": [
        "import scipy as sp\n",
        "def dist_raw(v1,v2):\n",
        "  delta = v1 - v2\n",
        "  return sp.linalg.norm(delta.toarray())"
      ],
      "metadata": {
        "id": "nKUF2P0_-o8S"
      },
      "execution_count": 6,
      "outputs": []
    },
    {
      "cell_type": "code",
      "source": [
        "def check_distance(X, new_post_vec, contents):\n",
        "  best_doc = None\n",
        "  best_dist = 65535\n",
        "  best_i = None\n",
        "  result = []\n",
        "  for i in range(len(contents)):\n",
        "    post_vec = X.getrow(i)\n",
        "    d = dist_raw(post_vec, new_post_vec)\n",
        "    #print(d)\n",
        "    print('== Post %i with dist = %.2f : %s' %(i,d, contents[i]))\n",
        "    if d < best_dist:\n",
        "      best_dist = d\n",
        "      best_i = i\n",
        "      result = []\n",
        "    if d == best_dist:\n",
        "      result.append(contents[i])\n",
        "  return best_i, best_dist, result"
      ],
      "metadata": {
        "id": "GQ88m5eK7Lbi"
      },
      "execution_count": 7,
      "outputs": []
    },
    {
      "cell_type": "code",
      "source": [
        "contents = [\n",
        "    \"작년 대비 소비자물가가 33% 증가했다.\",\n",
        "    \"작년 대비 소비자물가가 33%증가했다.\",\n",
        "    \"작년 대비 소비자물가가 15% 증가했다.\",\n",
        "    \"내 나이는 올해 33살이다.\",\n",
        "    \"문방구가서 펜 33개만 사와줄래?\",\n",
        "    \"소비자물가가 크게 오를 전망이다.\",\n",
        "    \"작년에 비해 소비자물가가 증가했다.\",\n",
        "    \"작년에 비해 소비자물가가 33% 증가했다.\"\n",
        "]\n",
        "new_post = [\"작년 대비 소비자물가가 33% 증가했다.\"]\n",
        "\n",
        "X = sentence_token(contents)\n",
        "new_post_vec = new_token(new_post)\n",
        "best_i, best_dist, result = check_distance(X, new_post_vec, contents)\n",
        "print(\"Best post is %i, dist=%.2f\" %(best_i, best_dist))\n",
        "print('-->', new_post)\n",
        "print('---->', contents[best_i])"
      ],
      "metadata": {
        "colab": {
          "base_uri": "https://localhost:8080/"
        },
        "id": "oiI6yb3D8VL9",
        "outputId": "4becbb47-c7bf-4c88-8c10-1d7dd350fe6e"
      },
      "execution_count": 8,
      "outputs": [
        {
          "output_type": "stream",
          "name": "stdout",
          "text": [
            "8 19\n",
            "[' 작년 대비 소비자 물가 가 33% 증가 했다 .']\n",
            "== Post 0 with dist = 0.00 : 작년 대비 소비자물가가 33% 증가했다.\n",
            "== Post 1 with dist = 0.00 : 작년 대비 소비자물가가 33%증가했다.\n",
            "== Post 2 with dist = 0.70 : 작년 대비 소비자물가가 15% 증가했다.\n",
            "== Post 3 with dist = 1.33 : 내 나이는 올해 33살이다.\n",
            "== Post 4 with dist = 1.33 : 문방구가서 펜 33개만 사와줄래?\n",
            "== Post 5 with dist = 1.30 : 소비자물가가 크게 오를 전망이다.\n",
            "== Post 6 with dist = 0.83 : 작년에 비해 소비자물가가 증가했다.\n",
            "== Post 7 with dist = 0.72 : 작년에 비해 소비자물가가 33% 증가했다.\n",
            "Best post is 0, dist=0.00\n",
            "--> ['작년 대비 소비자물가가 33% 증가했다.']\n",
            "----> 작년 대비 소비자물가가 33% 증가했다.\n"
          ]
        }
      ]
    }
  ]
}