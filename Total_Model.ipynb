{
  "nbformat": 4,
  "nbformat_minor": 0,
  "metadata": {
    "colab": {
      "provenance": []
    },
    "kernelspec": {
      "name": "python3",
      "display_name": "Python 3"
    },
    "language_info": {
      "name": "python"
    }
  },
  "cells": [
    {
      "cell_type": "code",
      "execution_count": 1,
      "metadata": {
        "colab": {
          "base_uri": "https://localhost:8080/"
        },
        "id": "NNkG7ttTxWwb",
        "outputId": "53919234-abc1-4873-e5e7-8b2700b16547"
      },
      "outputs": [
        {
          "output_type": "stream",
          "name": "stdout",
          "text": [
            "Requirement already satisfied: scikit-learn in /usr/local/lib/python3.10/dist-packages (1.2.2)\n",
            "Collecting scikit-learn\n",
            "  Downloading scikit_learn-1.3.0-cp310-cp310-manylinux_2_17_x86_64.manylinux2014_x86_64.whl (10.8 MB)\n",
            "\u001b[2K     \u001b[90m━━━━━━━━━━━━━━━━━━━━━━━━━━━━━━━━━━━━━━━━\u001b[0m \u001b[32m10.8/10.8 MB\u001b[0m \u001b[31m56.1 MB/s\u001b[0m eta \u001b[36m0:00:00\u001b[0m\n",
            "\u001b[?25hRequirement already satisfied: numpy>=1.17.3 in /usr/local/lib/python3.10/dist-packages (from scikit-learn) (1.22.4)\n",
            "Requirement already satisfied: scipy>=1.5.0 in /usr/local/lib/python3.10/dist-packages (from scikit-learn) (1.10.1)\n",
            "Requirement already satisfied: joblib>=1.1.1 in /usr/local/lib/python3.10/dist-packages (from scikit-learn) (1.3.1)\n",
            "Requirement already satisfied: threadpoolctl>=2.0.0 in /usr/local/lib/python3.10/dist-packages (from scikit-learn) (3.2.0)\n",
            "Installing collected packages: scikit-learn\n",
            "  Attempting uninstall: scikit-learn\n",
            "    Found existing installation: scikit-learn 1.2.2\n",
            "    Uninstalling scikit-learn-1.2.2:\n",
            "      Successfully uninstalled scikit-learn-1.2.2\n",
            "Successfully installed scikit-learn-1.3.0\n",
            "Collecting konlpy\n",
            "  Downloading konlpy-0.6.0-py2.py3-none-any.whl (19.4 MB)\n",
            "\u001b[2K     \u001b[90m━━━━━━━━━━━━━━━━━━━━━━━━━━━━━━━━━━━━━━━━\u001b[0m \u001b[32m19.4/19.4 MB\u001b[0m \u001b[31m44.6 MB/s\u001b[0m eta \u001b[36m0:00:00\u001b[0m\n",
            "\u001b[?25hCollecting JPype1>=0.7.0 (from konlpy)\n",
            "  Downloading JPype1-1.4.1-cp310-cp310-manylinux_2_12_x86_64.manylinux2010_x86_64.whl (465 kB)\n",
            "\u001b[2K     \u001b[90m━━━━━━━━━━━━━━━━━━━━━━━━━━━━━━━━━━━━━━\u001b[0m \u001b[32m465.3/465.3 kB\u001b[0m \u001b[31m33.0 MB/s\u001b[0m eta \u001b[36m0:00:00\u001b[0m\n",
            "\u001b[?25hRequirement already satisfied: lxml>=4.1.0 in /usr/local/lib/python3.10/dist-packages (from konlpy) (4.9.3)\n",
            "Requirement already satisfied: numpy>=1.6 in /usr/local/lib/python3.10/dist-packages (from konlpy) (1.22.4)\n",
            "Requirement already satisfied: packaging in /usr/local/lib/python3.10/dist-packages (from JPype1>=0.7.0->konlpy) (23.1)\n",
            "Installing collected packages: JPype1, konlpy\n",
            "Successfully installed JPype1-1.4.1 konlpy-0.6.0\n"
          ]
        }
      ],
      "source": [
        "!pip install -U scikit-learn\n",
        "!pip install konlpy"
      ]
    },
    {
      "cell_type": "code",
      "source": [
        "from sklearn.feature_extraction.text import TfidfVectorizer\n",
        "import konlpy\n",
        "from konlpy.tag import Okt\n",
        "import scipy as sp\n",
        "\n",
        "t = Okt()\n",
        "\n",
        "vectorizer = TfidfVectorizer(min_df = 1, decode_error = 'ignore')\n",
        "\n",
        "def sentence_token(contents):\n",
        "  contents_tokens = [t.morphs(row) for row in contents]\n",
        "\n",
        "  contents_for_vectorize = []\n",
        "  for content in contents_tokens:\n",
        "    sentence = ''\n",
        "    for word in content:\n",
        "      sentence = sentence + ' ' + word\n",
        "    contents_for_vectorize.append(sentence)\n",
        "\n",
        "  #tf-idf 벡터화\n",
        "  X = vectorizer.fit_transform(contents_for_vectorize)\n",
        "  num_samples, num_features = X.shape\n",
        "  print(num_samples, num_features)\n",
        "  return X\n",
        "def new_token(new_post):\n",
        "  new_post_tokens = [t.morphs(row) for row in new_post]\n",
        "  new_post_for_vectorize = []\n",
        "  for content in new_post_tokens:\n",
        "    sentence = ''\n",
        "    for word in content:\n",
        "      sentence = sentence + ' ' + word\n",
        "    new_post_for_vectorize.append(sentence)\n",
        "  new_post_vec = vectorizer.transform(new_post_for_vectorize)\n",
        "  print(new_post_for_vectorize)\n",
        "  return new_post_vec\n",
        "\n",
        "def dist_raw(v1,v2):\n",
        "  delta = v1 - v2\n",
        "  return sp.linalg.norm(delta.toarray())\n",
        "\n",
        "def check_distance(X, new_post_vec, contents):\n",
        "  best_doc = None\n",
        "  best_dist = 65535\n",
        "  best_i = None\n",
        "  result = []\n",
        "  for i in range(len(contents)):\n",
        "    post_vec = X.getrow(i)\n",
        "    d = dist_raw(post_vec, new_post_vec)\n",
        "    #print(d)\n",
        "    print('== Post %i with dist = %.2f : %s' %(i,d, contents[i]))\n",
        "    if d < best_dist:\n",
        "      best_dist = d\n",
        "      best_i = i\n",
        "      result = []\n",
        "    if d == best_dist:\n",
        "      result.append(contents[i])\n",
        "  return best_i, best_dist, result"
      ],
      "metadata": {
        "id": "OH7dt0zXxfTM"
      },
      "execution_count": 34,
      "outputs": []
    },
    {
      "cell_type": "code",
      "source": [
        "import requests\n",
        "import json\n",
        "\n",
        "\n",
        "def pusan_univ_spell(text):\n",
        "\n",
        "  text = text.replace('\\n', '\\r\\n')\n",
        "  # 2. 맞춤법 검사 요청 (requests)\n",
        "  response = requests.post('http://164.125.7.61/speller/results', data={'text1': text})\n",
        "  try:\n",
        "    # 3. 응답에서 필요한 내용 추출 (html 파싱)\n",
        "    data = response.text.split('data = [', 1)[-1].rsplit('];', 1)[0]\n",
        "\n",
        "    # 4. 파이썬 딕셔너리 형식으로 변환\n",
        "    data = json.loads(data)\n",
        "\n",
        "    for err in data['errInfo']:\n",
        "        print(f\"입력 내용 : {err['orgStr']}\")\n",
        "        print(f\"대치어 : {err['candWord']}\")\n",
        "        print(f\"도움말 : {err['help']}\") #여기 apos; 나오고 <br/>이런거 나오는데 혹시 수정해야되면 메시지 작성 바람.\n",
        "        print(\"\\n\")\n",
        "  except:\n",
        "    print('오류가 발생하지 않았습니다. 문장이 완전합니다.')"
      ],
      "metadata": {
        "id": "tV2h2c6ex17K"
      },
      "execution_count": 74,
      "outputs": []
    },
    {
      "cell_type": "code",
      "source": [
        "contents = [\n",
        "    \"작년 대비 소비자물가가 33% 증가했다.\",\n",
        "    \"작년 대비 소비자물가가 33%증가했다.\",\n",
        "    \"작년 대비 소비자물가가 15% 증가했다.\",\n",
        "    \"내 나이는 올해 33살이다.\",\n",
        "    \"문방구가서 펜 33개만 사와줄래?\",\n",
        "    \"소비자물가가 크게 오를 전망이다.\",\n",
        "    \"작년에 비해 소비자물가가 증가했다.\",\n",
        "    \"작년에 비해 소비자물가가 33% 증가했다.\"\n",
        "]\n",
        "new_post = [\"작년 대비 소비자물가가 33% 증가했다.\"]\n",
        "\n",
        "X = sentence_token(contents)\n",
        "new_post_vec = new_token(new_post)\n",
        "best_i, best_dist, result = check_distance(X, new_post_vec, contents)\n",
        "print(\"Best post is %i, dist=%.2f\" %(best_i, best_dist))\n",
        "print('-->', new_post)\n",
        "print('---->', contents[best_i])"
      ],
      "metadata": {
        "colab": {
          "base_uri": "https://localhost:8080/"
        },
        "id": "K1wyOaOtxyC-",
        "outputId": "8ad56aad-bc1c-494d-ae56-678b0d0a6929"
      },
      "execution_count": 36,
      "outputs": [
        {
          "output_type": "stream",
          "name": "stdout",
          "text": [
            "8 19\n",
            "[' 작년 대비 소비자 물가 가 33% 증가 했다 .']\n",
            "== Post 0 with dist = 0.00 : 작년 대비 소비자물가가 33% 증가했다.\n",
            "== Post 1 with dist = 0.00 : 작년 대비 소비자물가가 33%증가했다.\n",
            "== Post 2 with dist = 0.70 : 작년 대비 소비자물가가 15% 증가했다.\n",
            "== Post 3 with dist = 1.33 : 내 나이는 올해 33살이다.\n",
            "== Post 4 with dist = 1.33 : 문방구가서 펜 33개만 사와줄래?\n",
            "== Post 5 with dist = 1.30 : 소비자물가가 크게 오를 전망이다.\n",
            "== Post 6 with dist = 0.83 : 작년에 비해 소비자물가가 증가했다.\n",
            "== Post 7 with dist = 0.72 : 작년에 비해 소비자물가가 33% 증가했다.\n",
            "Best post is 0, dist=0.00\n",
            "--> ['작년 대비 소비자물가가 33% 증가했다.']\n",
            "----> 작년 대비 소비자물가가 33% 증가했다.\n"
          ]
        }
      ]
    },
    {
      "cell_type": "code",
      "source": [
        "result = pusan_univ_spell(contents[best_i])"
      ],
      "metadata": {
        "colab": {
          "base_uri": "https://localhost:8080/"
        },
        "id": "DvkYvAokyNsf",
        "outputId": "77a76be7-d73a-4f13-f98a-452124945a69"
      },
      "execution_count": 78,
      "outputs": [
        {
          "output_type": "stream",
          "name": "stdout",
          "text": [
            "오류가 발생하지 않았습니다. 문장이 완전합니다.\n"
          ]
        }
      ]
    }
  ]
}