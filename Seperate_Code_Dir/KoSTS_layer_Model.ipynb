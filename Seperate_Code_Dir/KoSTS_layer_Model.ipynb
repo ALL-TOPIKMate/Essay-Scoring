{
  "nbformat": 4,
  "nbformat_minor": 0,
  "metadata": {
    "colab": {
      "provenance": [],
      "gpuType": "T4"
    },
    "kernelspec": {
      "name": "python3",
      "display_name": "Python 3"
    },
    "language_info": {
      "name": "python"
    },
    "accelerator": "GPU"
  },
  "cells": [
    {
      "cell_type": "markdown",
      "source": [
        "# KoSTS 데이터를 이용하에 유사도 모델 제작\n",
        "## 데이터 가져와서 필요한 내용 확인"
      ],
      "metadata": {
        "id": "dMutNbkP3Sca"
      }
    },
    {
      "cell_type": "code",
      "execution_count": 79,
      "metadata": {
        "colab": {
          "base_uri": "https://localhost:8080/"
        },
        "id": "iH04vn8f_yxT",
        "outputId": "737742e1-2b6a-486b-8481-015f985767b9"
      },
      "outputs": [
        {
          "output_type": "stream",
          "name": "stdout",
          "text": [
            "fatal: destination path 'kor-nlu-datasets' already exists and is not an empty directory.\n"
          ]
        }
      ],
      "source": [
        "!git clone https://github.com/kakaobrain/kor-nlu-datasets.git"
      ]
    },
    {
      "cell_type": "code",
      "source": [
        "import pandas as pd\n",
        "\n",
        "file_path = 'kor-nlu-datasets/KorSTS/sts-train.tsv'\n",
        "\n",
        "df = pd.read_csv(file_path, sep='\\t', usecols =['score', 'sentence1', 'sentence2'])\n",
        "df"
      ],
      "metadata": {
        "colab": {
          "base_uri": "https://localhost:8080/",
          "height": 441
        },
        "id": "Bo8sqjfzAQP5",
        "outputId": "6a8b4738-2a0e-4f8f-a653-644bb2c0732e"
      },
      "execution_count": 80,
      "outputs": [
        {
          "output_type": "execute_result",
          "data": {
            "text/plain": [
              "      score                                sentence1  \\\n",
              "0      5.00                            비행기가 이륙하고 있다.   \n",
              "1      3.80                    한 남자가 큰 플루트를 연주하고 있다.   \n",
              "2      3.80                   한 남자가 피자에 치즈를 뿌려놓고 있다.   \n",
              "3      2.60                         세 남자가 체스를 하고 있다.   \n",
              "4      4.25                       한 남자가 첼로를 연주하고 있다.   \n",
              "...     ...                                      ...   \n",
              "5698   0.00                폭풍우 클로다흐가 영국을 강타하면서 심한 강풍   \n",
              "5699   0.00  리비아 테러리스트들이 공습에 대한 복수로 찍은 수십 명의 이집트 인질들   \n",
              "5700   0.00                            바레인으로 향하는 대통령   \n",
              "5701   0.00              중국, 인도는 양국 관계를 증진시키겠다고 맹세한다   \n",
              "5702   0.00           푸틴 대변인 : 도핑 혐의는 근거 없는 것으로 보인다.   \n",
              "\n",
              "                                           sentence2  \n",
              "0                                      비행기가 이륙하고 있다.  \n",
              "1                                  남자가 플루트를 연주하고 있다.  \n",
              "2                       한 남자가 구운 피자에 치즈 조각을 뿌려놓고 있다.  \n",
              "3                                   두 남자가 체스를 하고 있다.  \n",
              "4                            자리에 앉은 남자가 첼로를 연주하고 있다.  \n",
              "...                                              ...  \n",
              "5698                        메르켈은 나토와 라트비아의 연대를 약속한다.  \n",
              "5699  나일강에서 더 많은 시체가 발견되면서 이집트 보트 충돌 사고 사망자 수가 증가한다.  \n",
              "5700                      시 주석 : 에볼라 퇴치를 계속 돕기 위한 중국  \n",
              "5701             중국은 불안한 주식 거래자들을 안심시키기 위해 뒤뚱거리고 있다.  \n",
              "5702               가장 최근의 심한 날씨 : 토네이도 후 텍사스에서 1명 사망  \n",
              "\n",
              "[5703 rows x 3 columns]"
            ],
            "text/html": [
              "\n",
              "  <div id=\"df-e0ff5fb5-b88f-485f-8bf3-0ea56e9bd667\" class=\"colab-df-container\">\n",
              "    <div>\n",
              "<style scoped>\n",
              "    .dataframe tbody tr th:only-of-type {\n",
              "        vertical-align: middle;\n",
              "    }\n",
              "\n",
              "    .dataframe tbody tr th {\n",
              "        vertical-align: top;\n",
              "    }\n",
              "\n",
              "    .dataframe thead th {\n",
              "        text-align: right;\n",
              "    }\n",
              "</style>\n",
              "<table border=\"1\" class=\"dataframe\">\n",
              "  <thead>\n",
              "    <tr style=\"text-align: right;\">\n",
              "      <th></th>\n",
              "      <th>score</th>\n",
              "      <th>sentence1</th>\n",
              "      <th>sentence2</th>\n",
              "    </tr>\n",
              "  </thead>\n",
              "  <tbody>\n",
              "    <tr>\n",
              "      <th>0</th>\n",
              "      <td>5.00</td>\n",
              "      <td>비행기가 이륙하고 있다.</td>\n",
              "      <td>비행기가 이륙하고 있다.</td>\n",
              "    </tr>\n",
              "    <tr>\n",
              "      <th>1</th>\n",
              "      <td>3.80</td>\n",
              "      <td>한 남자가 큰 플루트를 연주하고 있다.</td>\n",
              "      <td>남자가 플루트를 연주하고 있다.</td>\n",
              "    </tr>\n",
              "    <tr>\n",
              "      <th>2</th>\n",
              "      <td>3.80</td>\n",
              "      <td>한 남자가 피자에 치즈를 뿌려놓고 있다.</td>\n",
              "      <td>한 남자가 구운 피자에 치즈 조각을 뿌려놓고 있다.</td>\n",
              "    </tr>\n",
              "    <tr>\n",
              "      <th>3</th>\n",
              "      <td>2.60</td>\n",
              "      <td>세 남자가 체스를 하고 있다.</td>\n",
              "      <td>두 남자가 체스를 하고 있다.</td>\n",
              "    </tr>\n",
              "    <tr>\n",
              "      <th>4</th>\n",
              "      <td>4.25</td>\n",
              "      <td>한 남자가 첼로를 연주하고 있다.</td>\n",
              "      <td>자리에 앉은 남자가 첼로를 연주하고 있다.</td>\n",
              "    </tr>\n",
              "    <tr>\n",
              "      <th>...</th>\n",
              "      <td>...</td>\n",
              "      <td>...</td>\n",
              "      <td>...</td>\n",
              "    </tr>\n",
              "    <tr>\n",
              "      <th>5698</th>\n",
              "      <td>0.00</td>\n",
              "      <td>폭풍우 클로다흐가 영국을 강타하면서 심한 강풍</td>\n",
              "      <td>메르켈은 나토와 라트비아의 연대를 약속한다.</td>\n",
              "    </tr>\n",
              "    <tr>\n",
              "      <th>5699</th>\n",
              "      <td>0.00</td>\n",
              "      <td>리비아 테러리스트들이 공습에 대한 복수로 찍은 수십 명의 이집트 인질들</td>\n",
              "      <td>나일강에서 더 많은 시체가 발견되면서 이집트 보트 충돌 사고 사망자 수가 증가한다.</td>\n",
              "    </tr>\n",
              "    <tr>\n",
              "      <th>5700</th>\n",
              "      <td>0.00</td>\n",
              "      <td>바레인으로 향하는 대통령</td>\n",
              "      <td>시 주석 : 에볼라 퇴치를 계속 돕기 위한 중국</td>\n",
              "    </tr>\n",
              "    <tr>\n",
              "      <th>5701</th>\n",
              "      <td>0.00</td>\n",
              "      <td>중국, 인도는 양국 관계를 증진시키겠다고 맹세한다</td>\n",
              "      <td>중국은 불안한 주식 거래자들을 안심시키기 위해 뒤뚱거리고 있다.</td>\n",
              "    </tr>\n",
              "    <tr>\n",
              "      <th>5702</th>\n",
              "      <td>0.00</td>\n",
              "      <td>푸틴 대변인 : 도핑 혐의는 근거 없는 것으로 보인다.</td>\n",
              "      <td>가장 최근의 심한 날씨 : 토네이도 후 텍사스에서 1명 사망</td>\n",
              "    </tr>\n",
              "  </tbody>\n",
              "</table>\n",
              "<p>5703 rows × 3 columns</p>\n",
              "</div>\n",
              "    <div class=\"colab-df-buttons\">\n",
              "\n",
              "  <div class=\"colab-df-container\">\n",
              "    <button class=\"colab-df-convert\" onclick=\"convertToInteractive('df-e0ff5fb5-b88f-485f-8bf3-0ea56e9bd667')\"\n",
              "            title=\"Convert this dataframe to an interactive table.\"\n",
              "            style=\"display:none;\">\n",
              "\n",
              "  <svg xmlns=\"http://www.w3.org/2000/svg\" height=\"24px\" viewBox=\"0 -960 960 960\">\n",
              "    <path d=\"M120-120v-720h720v720H120Zm60-500h600v-160H180v160Zm220 220h160v-160H400v160Zm0 220h160v-160H400v160ZM180-400h160v-160H180v160Zm440 0h160v-160H620v160ZM180-180h160v-160H180v160Zm440 0h160v-160H620v160Z\"/>\n",
              "  </svg>\n",
              "    </button>\n",
              "\n",
              "  <style>\n",
              "    .colab-df-container {\n",
              "      display:flex;\n",
              "      gap: 12px;\n",
              "    }\n",
              "\n",
              "    .colab-df-convert {\n",
              "      background-color: #E8F0FE;\n",
              "      border: none;\n",
              "      border-radius: 50%;\n",
              "      cursor: pointer;\n",
              "      display: none;\n",
              "      fill: #1967D2;\n",
              "      height: 32px;\n",
              "      padding: 0 0 0 0;\n",
              "      width: 32px;\n",
              "    }\n",
              "\n",
              "    .colab-df-convert:hover {\n",
              "      background-color: #E2EBFA;\n",
              "      box-shadow: 0px 1px 2px rgba(60, 64, 67, 0.3), 0px 1px 3px 1px rgba(60, 64, 67, 0.15);\n",
              "      fill: #174EA6;\n",
              "    }\n",
              "\n",
              "    .colab-df-buttons div {\n",
              "      margin-bottom: 4px;\n",
              "    }\n",
              "\n",
              "    [theme=dark] .colab-df-convert {\n",
              "      background-color: #3B4455;\n",
              "      fill: #D2E3FC;\n",
              "    }\n",
              "\n",
              "    [theme=dark] .colab-df-convert:hover {\n",
              "      background-color: #434B5C;\n",
              "      box-shadow: 0px 1px 3px 1px rgba(0, 0, 0, 0.15);\n",
              "      filter: drop-shadow(0px 1px 2px rgba(0, 0, 0, 0.3));\n",
              "      fill: #FFFFFF;\n",
              "    }\n",
              "  </style>\n",
              "\n",
              "    <script>\n",
              "      const buttonEl =\n",
              "        document.querySelector('#df-e0ff5fb5-b88f-485f-8bf3-0ea56e9bd667 button.colab-df-convert');\n",
              "      buttonEl.style.display =\n",
              "        google.colab.kernel.accessAllowed ? 'block' : 'none';\n",
              "\n",
              "      async function convertToInteractive(key) {\n",
              "        const element = document.querySelector('#df-e0ff5fb5-b88f-485f-8bf3-0ea56e9bd667');\n",
              "        const dataTable =\n",
              "          await google.colab.kernel.invokeFunction('convertToInteractive',\n",
              "                                                    [key], {});\n",
              "        if (!dataTable) return;\n",
              "\n",
              "        const docLinkHtml = 'Like what you see? Visit the ' +\n",
              "          '<a target=\"_blank\" href=https://colab.research.google.com/notebooks/data_table.ipynb>data table notebook</a>'\n",
              "          + ' to learn more about interactive tables.';\n",
              "        element.innerHTML = '';\n",
              "        dataTable['output_type'] = 'display_data';\n",
              "        await google.colab.output.renderOutput(dataTable, element);\n",
              "        const docLink = document.createElement('div');\n",
              "        docLink.innerHTML = docLinkHtml;\n",
              "        element.appendChild(docLink);\n",
              "      }\n",
              "    </script>\n",
              "  </div>\n",
              "\n",
              "\n",
              "<div id=\"df-dc339600-d166-4df5-b1cd-5251b482616d\">\n",
              "  <button class=\"colab-df-quickchart\" onclick=\"quickchart('df-dc339600-d166-4df5-b1cd-5251b482616d')\"\n",
              "            title=\"Suggest charts.\"\n",
              "            style=\"display:none;\">\n",
              "\n",
              "<svg xmlns=\"http://www.w3.org/2000/svg\" height=\"24px\"viewBox=\"0 0 24 24\"\n",
              "     width=\"24px\">\n",
              "    <g>\n",
              "        <path d=\"M19 3H5c-1.1 0-2 .9-2 2v14c0 1.1.9 2 2 2h14c1.1 0 2-.9 2-2V5c0-1.1-.9-2-2-2zM9 17H7v-7h2v7zm4 0h-2V7h2v10zm4 0h-2v-4h2v4z\"/>\n",
              "    </g>\n",
              "</svg>\n",
              "  </button>\n",
              "\n",
              "<style>\n",
              "  .colab-df-quickchart {\n",
              "    background-color: #E8F0FE;\n",
              "    border: none;\n",
              "    border-radius: 50%;\n",
              "    cursor: pointer;\n",
              "    display: none;\n",
              "    fill: #1967D2;\n",
              "    height: 32px;\n",
              "    padding: 0 0 0 0;\n",
              "    width: 32px;\n",
              "  }\n",
              "\n",
              "  .colab-df-quickchart:hover {\n",
              "    background-color: #E2EBFA;\n",
              "    box-shadow: 0px 1px 2px rgba(60, 64, 67, 0.3), 0px 1px 3px 1px rgba(60, 64, 67, 0.15);\n",
              "    fill: #174EA6;\n",
              "  }\n",
              "\n",
              "  [theme=dark] .colab-df-quickchart {\n",
              "    background-color: #3B4455;\n",
              "    fill: #D2E3FC;\n",
              "  }\n",
              "\n",
              "  [theme=dark] .colab-df-quickchart:hover {\n",
              "    background-color: #434B5C;\n",
              "    box-shadow: 0px 1px 3px 1px rgba(0, 0, 0, 0.15);\n",
              "    filter: drop-shadow(0px 1px 2px rgba(0, 0, 0, 0.3));\n",
              "    fill: #FFFFFF;\n",
              "  }\n",
              "</style>\n",
              "\n",
              "  <script>\n",
              "    async function quickchart(key) {\n",
              "      const charts = await google.colab.kernel.invokeFunction(\n",
              "          'suggestCharts', [key], {});\n",
              "    }\n",
              "    (() => {\n",
              "      let quickchartButtonEl =\n",
              "        document.querySelector('#df-dc339600-d166-4df5-b1cd-5251b482616d button');\n",
              "      quickchartButtonEl.style.display =\n",
              "        google.colab.kernel.accessAllowed ? 'block' : 'none';\n",
              "    })();\n",
              "  </script>\n",
              "</div>\n",
              "    </div>\n",
              "  </div>\n"
            ]
          },
          "metadata": {},
          "execution_count": 80
        }
      ]
    },
    {
      "cell_type": "code",
      "source": [
        "!pip install tensorflow"
      ],
      "metadata": {
        "colab": {
          "base_uri": "https://localhost:8080/"
        },
        "id": "UQq5wC__GKNl",
        "outputId": "2bd3a68d-f21f-4e91-8325-59721761a174"
      },
      "execution_count": 81,
      "outputs": [
        {
          "output_type": "stream",
          "name": "stdout",
          "text": [
            "Requirement already satisfied: tensorflow in /usr/local/lib/python3.10/dist-packages (2.12.0)\n",
            "Requirement already satisfied: absl-py>=1.0.0 in /usr/local/lib/python3.10/dist-packages (from tensorflow) (1.4.0)\n",
            "Requirement already satisfied: astunparse>=1.6.0 in /usr/local/lib/python3.10/dist-packages (from tensorflow) (1.6.3)\n",
            "Requirement already satisfied: flatbuffers>=2.0 in /usr/local/lib/python3.10/dist-packages (from tensorflow) (23.5.26)\n",
            "Requirement already satisfied: gast<=0.4.0,>=0.2.1 in /usr/local/lib/python3.10/dist-packages (from tensorflow) (0.4.0)\n",
            "Requirement already satisfied: google-pasta>=0.1.1 in /usr/local/lib/python3.10/dist-packages (from tensorflow) (0.2.0)\n",
            "Requirement already satisfied: grpcio<2.0,>=1.24.3 in /usr/local/lib/python3.10/dist-packages (from tensorflow) (1.57.0)\n",
            "Requirement already satisfied: h5py>=2.9.0 in /usr/local/lib/python3.10/dist-packages (from tensorflow) (3.9.0)\n",
            "Requirement already satisfied: jax>=0.3.15 in /usr/local/lib/python3.10/dist-packages (from tensorflow) (0.4.14)\n",
            "Requirement already satisfied: keras<2.13,>=2.12.0 in /usr/local/lib/python3.10/dist-packages (from tensorflow) (2.12.0)\n",
            "Requirement already satisfied: libclang>=13.0.0 in /usr/local/lib/python3.10/dist-packages (from tensorflow) (16.0.6)\n",
            "Requirement already satisfied: numpy<1.24,>=1.22 in /usr/local/lib/python3.10/dist-packages (from tensorflow) (1.23.5)\n",
            "Requirement already satisfied: opt-einsum>=2.3.2 in /usr/local/lib/python3.10/dist-packages (from tensorflow) (3.3.0)\n",
            "Requirement already satisfied: packaging in /usr/local/lib/python3.10/dist-packages (from tensorflow) (23.1)\n",
            "Requirement already satisfied: protobuf!=4.21.0,!=4.21.1,!=4.21.2,!=4.21.3,!=4.21.4,!=4.21.5,<5.0.0dev,>=3.20.3 in /usr/local/lib/python3.10/dist-packages (from tensorflow) (3.20.3)\n",
            "Requirement already satisfied: setuptools in /usr/local/lib/python3.10/dist-packages (from tensorflow) (67.7.2)\n",
            "Requirement already satisfied: six>=1.12.0 in /usr/local/lib/python3.10/dist-packages (from tensorflow) (1.16.0)\n",
            "Requirement already satisfied: tensorboard<2.13,>=2.12 in /usr/local/lib/python3.10/dist-packages (from tensorflow) (2.12.3)\n",
            "Requirement already satisfied: tensorflow-estimator<2.13,>=2.12.0 in /usr/local/lib/python3.10/dist-packages (from tensorflow) (2.12.0)\n",
            "Requirement already satisfied: termcolor>=1.1.0 in /usr/local/lib/python3.10/dist-packages (from tensorflow) (2.3.0)\n",
            "Requirement already satisfied: typing-extensions>=3.6.6 in /usr/local/lib/python3.10/dist-packages (from tensorflow) (4.7.1)\n",
            "Requirement already satisfied: wrapt<1.15,>=1.11.0 in /usr/local/lib/python3.10/dist-packages (from tensorflow) (1.14.1)\n",
            "Requirement already satisfied: tensorflow-io-gcs-filesystem>=0.23.1 in /usr/local/lib/python3.10/dist-packages (from tensorflow) (0.33.0)\n",
            "Requirement already satisfied: wheel<1.0,>=0.23.0 in /usr/local/lib/python3.10/dist-packages (from astunparse>=1.6.0->tensorflow) (0.41.2)\n",
            "Requirement already satisfied: ml-dtypes>=0.2.0 in /usr/local/lib/python3.10/dist-packages (from jax>=0.3.15->tensorflow) (0.2.0)\n",
            "Requirement already satisfied: scipy>=1.7 in /usr/local/lib/python3.10/dist-packages (from jax>=0.3.15->tensorflow) (1.10.1)\n",
            "Requirement already satisfied: google-auth<3,>=1.6.3 in /usr/local/lib/python3.10/dist-packages (from tensorboard<2.13,>=2.12->tensorflow) (2.17.3)\n",
            "Requirement already satisfied: google-auth-oauthlib<1.1,>=0.5 in /usr/local/lib/python3.10/dist-packages (from tensorboard<2.13,>=2.12->tensorflow) (1.0.0)\n",
            "Requirement already satisfied: markdown>=2.6.8 in /usr/local/lib/python3.10/dist-packages (from tensorboard<2.13,>=2.12->tensorflow) (3.4.4)\n",
            "Requirement already satisfied: requests<3,>=2.21.0 in /usr/local/lib/python3.10/dist-packages (from tensorboard<2.13,>=2.12->tensorflow) (2.31.0)\n",
            "Requirement already satisfied: tensorboard-data-server<0.8.0,>=0.7.0 in /usr/local/lib/python3.10/dist-packages (from tensorboard<2.13,>=2.12->tensorflow) (0.7.1)\n",
            "Requirement already satisfied: werkzeug>=1.0.1 in /usr/local/lib/python3.10/dist-packages (from tensorboard<2.13,>=2.12->tensorflow) (2.3.7)\n",
            "Requirement already satisfied: cachetools<6.0,>=2.0.0 in /usr/local/lib/python3.10/dist-packages (from google-auth<3,>=1.6.3->tensorboard<2.13,>=2.12->tensorflow) (5.3.1)\n",
            "Requirement already satisfied: pyasn1-modules>=0.2.1 in /usr/local/lib/python3.10/dist-packages (from google-auth<3,>=1.6.3->tensorboard<2.13,>=2.12->tensorflow) (0.3.0)\n",
            "Requirement already satisfied: rsa<5,>=3.1.4 in /usr/local/lib/python3.10/dist-packages (from google-auth<3,>=1.6.3->tensorboard<2.13,>=2.12->tensorflow) (4.9)\n",
            "Requirement already satisfied: requests-oauthlib>=0.7.0 in /usr/local/lib/python3.10/dist-packages (from google-auth-oauthlib<1.1,>=0.5->tensorboard<2.13,>=2.12->tensorflow) (1.3.1)\n",
            "Requirement already satisfied: charset-normalizer<4,>=2 in /usr/local/lib/python3.10/dist-packages (from requests<3,>=2.21.0->tensorboard<2.13,>=2.12->tensorflow) (3.2.0)\n",
            "Requirement already satisfied: idna<4,>=2.5 in /usr/local/lib/python3.10/dist-packages (from requests<3,>=2.21.0->tensorboard<2.13,>=2.12->tensorflow) (3.4)\n",
            "Requirement already satisfied: urllib3<3,>=1.21.1 in /usr/local/lib/python3.10/dist-packages (from requests<3,>=2.21.0->tensorboard<2.13,>=2.12->tensorflow) (2.0.4)\n",
            "Requirement already satisfied: certifi>=2017.4.17 in /usr/local/lib/python3.10/dist-packages (from requests<3,>=2.21.0->tensorboard<2.13,>=2.12->tensorflow) (2023.7.22)\n",
            "Requirement already satisfied: MarkupSafe>=2.1.1 in /usr/local/lib/python3.10/dist-packages (from werkzeug>=1.0.1->tensorboard<2.13,>=2.12->tensorflow) (2.1.3)\n",
            "Requirement already satisfied: pyasn1<0.6.0,>=0.4.6 in /usr/local/lib/python3.10/dist-packages (from pyasn1-modules>=0.2.1->google-auth<3,>=1.6.3->tensorboard<2.13,>=2.12->tensorflow) (0.5.0)\n",
            "Requirement already satisfied: oauthlib>=3.0.0 in /usr/local/lib/python3.10/dist-packages (from requests-oauthlib>=0.7.0->google-auth-oauthlib<1.1,>=0.5->tensorboard<2.13,>=2.12->tensorflow) (3.2.2)\n"
          ]
        }
      ]
    },
    {
      "cell_type": "markdown",
      "source": [
        "### 필요한 데이터 추출"
      ],
      "metadata": {
        "id": "gB8Dv1SP3aiO"
      }
    },
    {
      "cell_type": "code",
      "source": [
        "from sklearn.model_selection import train_test_split\n",
        "x = df.drop(columns=['score'])\n",
        "y = df['score']\n",
        "\n",
        "train_x, test_x, train_y, test_y = train_test_split(x, y, test_size=0.3, random_state=42)"
      ],
      "metadata": {
        "id": "919jm_eDG0PT"
      },
      "execution_count": 82,
      "outputs": []
    },
    {
      "cell_type": "code",
      "source": [
        "!pip install konlpy"
      ],
      "metadata": {
        "colab": {
          "base_uri": "https://localhost:8080/"
        },
        "id": "citQ_a-tXi_q",
        "outputId": "14d75124-2a28-47a5-bacb-50bdced2deac"
      },
      "execution_count": 49,
      "outputs": [
        {
          "output_type": "stream",
          "name": "stdout",
          "text": [
            "Requirement already satisfied: konlpy in /usr/local/lib/python3.10/dist-packages (0.6.0)\n",
            "Requirement already satisfied: JPype1>=0.7.0 in /usr/local/lib/python3.10/dist-packages (from konlpy) (1.4.1)\n",
            "Requirement already satisfied: lxml>=4.1.0 in /usr/local/lib/python3.10/dist-packages (from konlpy) (4.9.3)\n",
            "Requirement already satisfied: numpy>=1.6 in /usr/local/lib/python3.10/dist-packages (from konlpy) (1.23.5)\n",
            "Requirement already satisfied: packaging in /usr/local/lib/python3.10/dist-packages (from JPype1>=0.7.0->konlpy) (23.1)\n"
          ]
        }
      ]
    },
    {
      "cell_type": "markdown",
      "source": [
        "## 토큰화 및 숫자 변환"
      ],
      "metadata": {
        "id": "keUFrcuv3ecI"
      }
    },
    {
      "cell_type": "code",
      "source": [
        "from konlpy.tag import Okt\n",
        "import tensorflow as tf\n",
        "def tokenize_korean(text):\n",
        "  okt = Okt()\n",
        "  if pd.notna(text):  # NaN 값이 아닌 경우에만 토큰화 수행\n",
        "        tokens = okt.morphs(text)\n",
        "        return ' '.join(tokens)\n",
        "  else:\n",
        "      return ''  # NaN 값이면 빈 문자열 반환\n",
        "\n",
        "train_x['sentence1'] = train_x['sentence1'].apply(tokenize_korean)\n",
        "train_x['sentence2'] = train_x['sentence2'].apply(tokenize_korean)\n",
        "test_x['sentence1'] = test_x['sentence1'].apply(tokenize_korean)\n",
        "test_x['sentence2'] = test_x['sentence2'].apply(tokenize_korean)\n",
        "\n",
        "tokenizer = tf.keras.layers.TextVectorization(output_sequence_length=64)  # max_seq_length를 적절한 값으로 설정\n",
        "tokenizer.adapt(train_x['sentence1'].values)\n",
        "def tokenize_and_vectorize(text):\n",
        "    text = tf.expand_dims(text, -1)\n",
        "    return tokenizer(text)\n",
        "\n",
        "# 데이터를 토큰화하고 숫자로 변환\n",
        "train_x_tensor = tokenize_and_vectorize(train_x['sentence1'].values)\n",
        "train_y_tensor = tf.constant(train_y.values, dtype=tf.float32)\n",
        "test_x_tensor = tokenize_and_vectorize(test_x['sentence1'].values)\n",
        "test_y_tensor = tf.constant(test_y.values, dtype=tf.float32)\n",
        "\n",
        "# 데이터셋 생성\n",
        "batch_size = 5\n",
        "train_dataset = tf.data.Dataset.from_tensor_slices((train_x_tensor, train_y_tensor)).batch(batch_size)\n",
        "test_dataset = tf.data.Dataset.from_tensor_slices((test_x_tensor, test_y_tensor)).batch(batch_size)"
      ],
      "metadata": {
        "id": "NPsFofyGXLfk"
      },
      "execution_count": 85,
      "outputs": []
    },
    {
      "cell_type": "markdown",
      "source": [
        "## 모델 구조 생성"
      ],
      "metadata": {
        "id": "hBeA1MLQ3j6V"
      }
    },
    {
      "cell_type": "code",
      "source": [
        "import tensorflow as tf\n",
        "\n",
        "#model = tf.keras.models.Sequential()\n",
        "#model.add(tf.keras.layers.Dense(10, input_dim=64, activation='sigmoid'))  # input_dim을 적절한 값으로 수정 (임베딩 차원인 64로 가정)\n",
        "#model.add(tf.keras.layers.Dense(10, activation='sigmoid'))\n",
        "#model.add(tf.keras.layers.Dense(1, activation='sigmoid'))  # 이진 분류 문제이므로 활성화 함수를 sigmoid로 변경\n",
        "input_1 = tf.keras.layers.Input(shape=(64,))\n",
        "input_2 = tf.keras.layers.Input(shape=(64,))\n",
        "merged_input = tf.keras.layers.Concatenate()([input_1, input_2])\n",
        "dense_layer_1 = tf.keras.layers.Dense(32, activation='relu')(merged_input)\n",
        "dense_layer_2 = tf.keras.layers.Dense(16, activation='relu')(dense_layer_1)\n",
        "output = tf.keras.layers.Dense(1, activation='sigmoid')(dense_layer_2)\n",
        "model = tf.keras.models.Model(inputs=[input_1, input_2], outputs=output)\n",
        "# 모델 컴파일\n",
        "model.compile(optimizer='adam',\n",
        "              loss='binary_crossentropy',  # binary_crossentropy를 사용\n",
        "              metrics=['accuracy'])  # accuracy 메트릭 사용\n",
        "\n",
        "# 모델 요약\n",
        "model.summary()\n",
        "\n",
        "# 훈련\n",
        "history = model.fit([train_x_tensor,train_x_tensor], train_y_tensor, validation_split=0.25, epochs=10, verbose=1)\n",
        "\n"
      ],
      "metadata": {
        "colab": {
          "base_uri": "https://localhost:8080/"
        },
        "id": "fj66B9bur9TN",
        "outputId": "93a03eb4-e86b-4495-cd9d-67de8e6554e0"
      },
      "execution_count": 111,
      "outputs": [
        {
          "output_type": "stream",
          "name": "stdout",
          "text": [
            "Model: \"model_1\"\n",
            "__________________________________________________________________________________________________\n",
            " Layer (type)                   Output Shape         Param #     Connected to                     \n",
            "==================================================================================================\n",
            " input_3 (InputLayer)           [(None, 64)]         0           []                               \n",
            "                                                                                                  \n",
            " input_4 (InputLayer)           [(None, 64)]         0           []                               \n",
            "                                                                                                  \n",
            " concatenate_1 (Concatenate)    (None, 128)          0           ['input_3[0][0]',                \n",
            "                                                                  'input_4[0][0]']                \n",
            "                                                                                                  \n",
            " dense_42 (Dense)               (None, 32)           4128        ['concatenate_1[0][0]']          \n",
            "                                                                                                  \n",
            " dense_43 (Dense)               (None, 16)           528         ['dense_42[0][0]']               \n",
            "                                                                                                  \n",
            " dense_44 (Dense)               (None, 1)            17          ['dense_43[0][0]']               \n",
            "                                                                                                  \n",
            "==================================================================================================\n",
            "Total params: 4,673\n",
            "Trainable params: 4,673\n",
            "Non-trainable params: 0\n",
            "__________________________________________________________________________________________________\n",
            "Epoch 1/10\n",
            "94/94 [==============================] - 3s 15ms/step - loss: -19644.7109 - accuracy: 0.0391 - val_loss: -67079.2344 - val_accuracy: 0.0361\n",
            "Epoch 2/10\n",
            "94/94 [==============================] - 0s 4ms/step - loss: -236206.1562 - accuracy: 0.0391 - val_loss: -568826.0625 - val_accuracy: 0.0361\n",
            "Epoch 3/10\n",
            "94/94 [==============================] - 0s 4ms/step - loss: -1139313.5000 - accuracy: 0.0391 - val_loss: -2104541.2500 - val_accuracy: 0.0361\n",
            "Epoch 4/10\n",
            "94/94 [==============================] - 0s 4ms/step - loss: -3237229.0000 - accuracy: 0.0391 - val_loss: -5166181.5000 - val_accuracy: 0.0361\n",
            "Epoch 5/10\n",
            "94/94 [==============================] - 1s 7ms/step - loss: -7028845.5000 - accuracy: 0.0391 - val_loss: -10298920.0000 - val_accuracy: 0.0361\n",
            "Epoch 6/10\n",
            "94/94 [==============================] - 1s 7ms/step - loss: -13011540.0000 - accuracy: 0.0391 - val_loss: -17992702.0000 - val_accuracy: 0.0361\n",
            "Epoch 7/10\n",
            "94/94 [==============================] - 1s 8ms/step - loss: -21561970.0000 - accuracy: 0.0391 - val_loss: -28690036.0000 - val_accuracy: 0.0361\n",
            "Epoch 8/10\n",
            "94/94 [==============================] - 1s 7ms/step - loss: -33025558.0000 - accuracy: 0.0391 - val_loss: -42627156.0000 - val_accuracy: 0.0361\n",
            "Epoch 9/10\n",
            "94/94 [==============================] - 0s 4ms/step - loss: -47616344.0000 - accuracy: 0.0391 - val_loss: -59885612.0000 - val_accuracy: 0.0361\n",
            "Epoch 10/10\n",
            "94/94 [==============================] - 0s 4ms/step - loss: -65611196.0000 - accuracy: 0.0391 - val_loss: -81011016.0000 - val_accuracy: 0.0361\n"
          ]
        }
      ]
    },
    {
      "cell_type": "markdown",
      "source": [
        "## 예측"
      ],
      "metadata": {
        "id": "-3ZhhbqF3np4"
      }
    },
    {
      "cell_type": "code",
      "source": [
        "predictions = model.predict(test_x_tensor)\n",
        "print(predictions)"
      ],
      "metadata": {
        "colab": {
          "base_uri": "https://localhost:8080/"
        },
        "id": "dLWK81_qwr4N",
        "outputId": "b7847604-0b72-4b0e-afb9-c57c83576efa"
      },
      "execution_count": 97,
      "outputs": [
        {
          "output_type": "stream",
          "name": "stdout",
          "text": [
            "54/54 [==============================] - 0s 2ms/step\n",
            "[[0.99993193]\n",
            " [0.99992657]\n",
            " [0.99993193]\n",
            " ...\n",
            " [0.99993324]\n",
            " [0.99992776]\n",
            " [0.99992085]]\n"
          ]
        }
      ]
    },
    {
      "cell_type": "code",
      "source": [
        "scaled_predictions = predictions * 5.0\n",
        "print(test_y_tensor[:10])\n",
        "print(scaled_predictions[:10])"
      ],
      "metadata": {
        "colab": {
          "base_uri": "https://localhost:8080/"
        },
        "id": "Maxx-bFPwzKU",
        "outputId": "cbee4779-ecc5-4fd3-b4fd-d9942f659f5b"
      },
      "execution_count": 109,
      "outputs": [
        {
          "output_type": "stream",
          "name": "stdout",
          "text": [
            "tf.Tensor([3.   4.4  4.4  4.25 2.   0.8  2.   5.   1.4  3.4 ], shape=(10,), dtype=float32)\n",
            "[[4.9996595]\n",
            " [4.999633 ]\n",
            " [4.9996595]\n",
            " [4.9996414]\n",
            " [4.9996595]\n",
            " [4.9996276]\n",
            " [4.9996514]\n",
            " [4.9995975]\n",
            " [4.999633 ]\n",
            " [4.99964  ]]\n"
          ]
        }
      ]
    }
  ]
}