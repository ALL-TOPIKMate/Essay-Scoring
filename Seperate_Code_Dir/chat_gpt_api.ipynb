{
  "nbformat": 4,
  "nbformat_minor": 0,
  "metadata": {
    "colab": {
      "provenance": []
    },
    "kernelspec": {
      "name": "python3",
      "display_name": "Python 3"
    },
    "language_info": {
      "name": "python"
    }
  },
  "cells": [
    {
      "cell_type": "code",
      "execution_count": 1,
      "metadata": {
        "colab": {
          "base_uri": "https://localhost:8080/"
        },
        "id": "2p2lW6ooXR-V",
        "outputId": "da273611-67f9-494d-9b7c-d5210b2667c4"
      },
      "outputs": [
        {
          "output_type": "stream",
          "name": "stdout",
          "text": [
            "Collecting openai\n",
            "  Downloading openai-0.28.0-py3-none-any.whl (76 kB)\n",
            "\u001b[?25l     \u001b[90m━━━━━━━━━━━━━━━━━━━━━━━━━━━━━━━━━━━━━━━━\u001b[0m \u001b[32m0.0/76.5 kB\u001b[0m \u001b[31m?\u001b[0m eta \u001b[36m-:--:--\u001b[0m\r\u001b[2K     \u001b[90m━━━━━━━━━━━━━━━━━━━━━━━━━━━━━━━━━━━━━━━━\u001b[0m \u001b[32m76.5/76.5 kB\u001b[0m \u001b[31m2.2 MB/s\u001b[0m eta \u001b[36m0:00:00\u001b[0m\n",
            "\u001b[?25hRequirement already satisfied: requests>=2.20 in /usr/local/lib/python3.10/dist-packages (from openai) (2.31.0)\n",
            "Requirement already satisfied: tqdm in /usr/local/lib/python3.10/dist-packages (from openai) (4.66.1)\n",
            "Requirement already satisfied: aiohttp in /usr/local/lib/python3.10/dist-packages (from openai) (3.8.5)\n",
            "Requirement already satisfied: charset-normalizer<4,>=2 in /usr/local/lib/python3.10/dist-packages (from requests>=2.20->openai) (3.2.0)\n",
            "Requirement already satisfied: idna<4,>=2.5 in /usr/local/lib/python3.10/dist-packages (from requests>=2.20->openai) (3.4)\n",
            "Requirement already satisfied: urllib3<3,>=1.21.1 in /usr/local/lib/python3.10/dist-packages (from requests>=2.20->openai) (2.0.4)\n",
            "Requirement already satisfied: certifi>=2017.4.17 in /usr/local/lib/python3.10/dist-packages (from requests>=2.20->openai) (2023.7.22)\n",
            "Requirement already satisfied: attrs>=17.3.0 in /usr/local/lib/python3.10/dist-packages (from aiohttp->openai) (23.1.0)\n",
            "Requirement already satisfied: multidict<7.0,>=4.5 in /usr/local/lib/python3.10/dist-packages (from aiohttp->openai) (6.0.4)\n",
            "Requirement already satisfied: async-timeout<5.0,>=4.0.0a3 in /usr/local/lib/python3.10/dist-packages (from aiohttp->openai) (4.0.3)\n",
            "Requirement already satisfied: yarl<2.0,>=1.0 in /usr/local/lib/python3.10/dist-packages (from aiohttp->openai) (1.9.2)\n",
            "Requirement already satisfied: frozenlist>=1.1.1 in /usr/local/lib/python3.10/dist-packages (from aiohttp->openai) (1.4.0)\n",
            "Requirement already satisfied: aiosignal>=1.1.2 in /usr/local/lib/python3.10/dist-packages (from aiohttp->openai) (1.3.1)\n",
            "Installing collected packages: openai\n",
            "Successfully installed openai-0.28.0\n"
          ]
        }
      ],
      "source": [
        "!pip install openai"
      ]
    },
    {
      "cell_type": "markdown",
      "source": [
        "점수 만점 기준과 찾아놓은 기준까지 추가한 사례."
      ],
      "metadata": {
        "id": "aNOH43YiDujo"
      }
    },
    {
      "cell_type": "code",
      "source": [
        "import os\n",
        "import openai\n",
        "\n",
        "openai.api_key = 'OPENAI_API_KEY'\n",
        "\n",
        "response = openai.ChatCompletion.create(\n",
        "  model=\"gpt-3.5-turbo\",\n",
        "  messages=[\n",
        "    {\n",
        "      \"role\": \"system\",\n",
        "      \"content\": \"질문과 제시문이 주어지면 사용자 답안이 이에 따라 주제, 문제점, 결론이 개요에 맞게 잘 구성되었는지 채점하여 잘한 점과 부족한 점에 대해 정리해주는 한국어 교사. 고급어휘, 피동형 표현이 어느정도 나와있으면 좋고 '-습니다', '-요'일 경우에는 감점한다. 논리전개 담화 표지가 있으면 좋다. 점수는 50점 만점으로 진행한다.\"\n",
        "    },\n",
        "    {\n",
        "      \"role\": \"user\",\n",
        "      \"content\": \"질문: 다음을 주제로 하여 자신의 생각을 600~700자로 글을 쓰시오. 단 문제를 그대로 옮겨 쓰지 마시오.\\n제시문: 세계 어느 나라에서나 역사를 가르칩니다. 이는 지나간 일을 기록한 역사가 오늘날의 우리에게 주는 가치가 분명히 있기 때문일 것입니다. 여러분은 우리가 왜 역사를 알아야 하고, 그 역사를 통해서 무엇을 배울 수 있다고 생각하십니까? 이에 대해 쓰십시오.\\n\\n사용자 답:  독일 사람들에게서 역사를 대하는 방법을 배운다. 제2차 세계대전에서 독일 나치는 굉장히 많은 유대인들을 유대인이라는 이유 하나만으로 잔인하게 학살했다. 이 역사적 사건에 대해서 독일 사람들은 현재에도 피해자들에게 사과하고 그에 대한 책임을 지려는 자세를 취하고 있다. 이런 독일인의 모습을 보고 지나간 역사를 어떻게 바라봐야 하는지를 생각할 수 있다.\\n   우리는 역사를 통해서 우리 선조들이 지나온 길을 볼 수 있다. 그 길이 부끄러운 길일 수도 있고 자랑스러운 길일 수도 있다. 하지만 그 모습 자체를 희화화하거나 왜곡해서는 안 된다고 생각한다. 역사에 대해서 객관적인 자세를 취하려는 태도는 굉장히 중요하다고 본다. 부끄러운 역사를 통해서는 다시는 그런 전철을 밟지 않도록 조치해야 하고, 자랑스러운 역사를 통해서는 길이길이 보전해서 현재에도 그런 모습을 가질 수 있도록 후손들이 노력해야 할 것이다.\\n 몇 년 전에 한국에서는 국사 ‘국정교과서’에 대한 논의가 있었던 적이 있었다. 이 부분은 절대 있어서는 안 된다고 본다. 역사에 대한 다양한 시각이 반드시 필요한데, 하나의 교과서로 만들어진다는 것에 염려를 표한다. 역사에 대해서 다양한 시선으로 보는 과점이 현대를 살아가는 우리에게 굉장히 필요한 부분이라고 생각한다.\"\n",
        "    }\n",
        "  ],\n",
        "  temperature=1,\n",
        "  max_tokens=512,\n",
        "  top_p=1,\n",
        "  frequency_penalty=0,\n",
        "  presence_penalty=0\n",
        ")\n",
        "answer = response['choices'][0]['message']['content']\n",
        "\n",
        "# 결과 출력\n",
        "print(answer)"
      ],
      "metadata": {
        "colab": {
          "base_uri": "https://localhost:8080/"
        },
        "id": "o6KR8h088LwE",
        "outputId": "ac5d3b61-8dea-4865-9ce0-c60bc8458e43"
      },
      "execution_count": 7,
      "outputs": [
        {
          "output_type": "stream",
          "name": "stdout",
          "text": [
            "성공한 점:\n",
            "- 주제에 대해 명확하게 정리하고 다양한 관점을 제시함\n",
            "- 역사의 중요성에 대한 이해가 명확하게 나타남\n",
            "- 역사를 통해 배울 수 있는 점에 대해 구체적으로 언급함\n",
            "- 개인적 견해를 논리적으로 전개하여 주장을 지지함\n",
            "\n",
            "부족한 점:\n",
            "- 주어진 제시문을 그대로 따라 쓰는 것이 아니라 일부 제시문을 피하고 주제를 개요와 일치시켜야 함\n",
            "- 좀 더 고급어휘와 다양한 언어표현을 사용해야 함\n",
            "- 일반적인 주장에 대한 예시나 구체적 사례를 더 추가하여 논리력을 더 강화해야 함\n",
            "- 쓰임이 제한적인 표현(예: \"-습니다\", \"-요\")은 피해야 함\n",
            "\n",
            "점수: 45/50\n"
          ]
        }
      ]
    },
    {
      "cell_type": "markdown",
      "source": [
        "점수만 추가"
      ],
      "metadata": {
        "id": "EYxVNIdhD5FF"
      }
    },
    {
      "cell_type": "code",
      "source": [
        "import os\n",
        "import openai\n",
        "\n",
        "openai.api_key = 'OPENAI_API_KEY'\n",
        "\n",
        "response = openai.ChatCompletion.create(\n",
        "  model=\"gpt-3.5-turbo\",\n",
        "  messages=[\n",
        "    {\n",
        "      \"role\": \"system\",\n",
        "      \"content\": \"질문과 제시문이 주어지면 사용자 답안이 이에 따라 주제, 문제점, 결론이 개요에 맞게 잘 구성되었는지 채점하여 잘한 점과 부족한 점에 대해 정리해주는 한국어 교사. 점수는 50점 만점으로 진행한다.\"\n",
        "    },\n",
        "    {\n",
        "      \"role\": \"user\",\n",
        "      \"content\": \"질문: 다음을 주제로 하여 자신의 생각을 600~700자로 글을 쓰시오. 단 문제를 그대로 옮겨 쓰지 마시오.\\n제시문: 세계 어느 나라에서나 역사를 가르칩니다. 이는 지나간 일을 기록한 역사가 오늘날의 우리에게 주는 가치가 분명히 있기 때문일 것입니다. 여러분은 우리가 왜 역사를 알아야 하고, 그 역사를 통해서 무엇을 배울 수 있다고 생각하십니까? 이에 대해 쓰십시오.\\n\\n사용자 답:  독일 사람들에게서 역사를 대하는 방법을 배운다. 제2차 세계대전에서 독일 나치는 굉장히 많은 유대인들을 유대인이라는 이유 하나만으로 잔인하게 학살했다. 이 역사적 사건에 대해서 독일 사람들은 현재에도 피해자들에게 사과하고 그에 대한 책임을 지려는 자세를 취하고 있다. 이런 독일인의 모습을 보고 지나간 역사를 어떻게 바라봐야 하는지를 생각할 수 있다.\\n   우리는 역사를 통해서 우리 선조들이 지나온 길을 볼 수 있다. 그 길이 부끄러운 길일 수도 있고 자랑스러운 길일 수도 있다. 하지만 그 모습 자체를 희화화하거나 왜곡해서는 안 된다고 생각한다. 역사에 대해서 객관적인 자세를 취하려는 태도는 굉장히 중요하다고 본다. 부끄러운 역사를 통해서는 다시는 그런 전철을 밟지 않도록 조치해야 하고, 자랑스러운 역사를 통해서는 길이길이 보전해서 현재에도 그런 모습을 가질 수 있도록 후손들이 노력해야 할 것이다.\\n 몇 년 전에 한국에서는 국사 ‘국정교과서’에 대한 논의가 있었던 적이 있었다. 이 부분은 절대 있어서는 안 된다고 본다. 역사에 대한 다양한 시각이 반드시 필요한데, 하나의 교과서로 만들어진다는 것에 염려를 표한다. 역사에 대해서 다양한 시선으로 보는 과점이 현대를 살아가는 우리에게 굉장히 필요한 부분이라고 생각한다.\"\n",
        "    }\n",
        "  ],\n",
        "  temperature=1,\n",
        "  max_tokens=512,\n",
        "  top_p=1,\n",
        "  frequency_penalty=0,\n",
        "  presence_penalty=0\n",
        ")\n",
        "answer = response['choices'][0]['message']['content']\n",
        "\n",
        "# 결과 출력\n",
        "print(answer)"
      ],
      "metadata": {
        "colab": {
          "base_uri": "https://localhost:8080/"
        },
        "id": "ncD1Evd2_zP8",
        "outputId": "cd73d659-f91c-4e42-d15b-1fcb280c508d"
      },
      "execution_count": 9,
      "outputs": [
        {
          "output_type": "stream",
          "name": "stdout",
          "text": [
            "한국어 교사의 채점 및 피드백:\n",
            "\n",
            "점수: 40점\n",
            "\n",
            "▶ 잘한 점:\n",
            "- 주어진 주제와 문제점에 대해 명확하게 이해하고 답변에 포함시킴\n",
            "- 주제와 관련하여 독일의 역사에 대한 사례를 들어 생각을 나름대로 발전시킴\n",
            "\n",
            "▶ 부족한 점:\n",
            "- 구성이 부족하고 어색한 부분이 존재함\n",
            "- 주어진 600-700자 글자 수를 채우지 못했음\n",
            "- 결론이 부족하며, 논리적인 진행이 부족함\n",
            "- 주어진 제시문에 대한 개괄적인 이해가 부족함\n",
            "\n",
            "▶ 피드백:\n",
            "- 글이 어색하고 논리적인 진행이 부족하여 질문에 대한 명확한 대답과 해석이 부족함\n",
            "- 주어진 주제에 대해 명확한 입장을 표명하지 않고, 주제와 관련된 다양한 사례와 시각을 제시하지 못함\n",
            "- 구성과 글의 흐름을 고려하여 개별 문장과 단락 사이에 응집성을 갖게 해야 함\n",
            "\n",
            "시간이 허락된다면 더 자세한 내용에 대해 다루어보시기 바랍니다. 또한, 개괄적인 주제와 문제점에 대한 이해를 높이고, 주제에 대한 명확한 입장과 의견, 그리고 논리적인 흐름을 갖도록 내용을 보완해보세요.\n"
          ]
        }
      ]
    },
    {
      "cell_type": "markdown",
      "source": [
        "글자수 600자 대인데 부족한 점이 이상하다."
      ],
      "metadata": {
        "id": "goTOqKHaAnMX"
      }
    },
    {
      "cell_type": "code",
      "source": [
        "import os\n",
        "import openai\n",
        "\n",
        "openai.api_key = 'OPENAI_API_KEY'\n",
        "\n",
        "response = openai.ChatCompletion.create(\n",
        "  model=\"gpt-3.5-turbo\",\n",
        "  messages=[\n",
        "    {\n",
        "      \"role\": \"system\",\n",
        "      \"content\": \"질문과 제시문이 주어지면 사용자 답안이 이에 따라 주제, 문제점, 결론이 개요에 맞게 잘 구성되었는지 채점하여 잘한 점과 부족한 점에 대해 정리해주는 한국어 교사. 점수는 50점 만점으로 진행한다.\"\n",
        "    },\n",
        "    {\n",
        "      \"role\": \"user\",\n",
        "      \"content\": \"질문: 다음을 주제로 하여 자신의 생각을 600~700자로 글을 쓰시오. 단 문제를 그대로 옮겨 쓰지 마시오.\\n제시문: 세계 어느 나라에서나 역사를 가르칩니다. 이는 지나간 일을 기록한 역사가 오늘날의 우리에게 주는 가치가 분명히 있기 때문일 것입니다. 여러분은 우리가 왜 역사를 알아야 하고, 그 역사를 통해서 무엇을 배울 수 있다고 생각하십니까? 이에 대해 쓰십시오.\\n\\n사용자 답:  독일 사람들에게서 역사를 대하는 방법을 배운다. 제2차 세계대전에서 독일 나치는 굉장히 많은 유대인들을 유대인이라는 이유 하나만으로 잔인하게 학살했다. 이 역사적 사건에 대해서 독일 사람들은 현재에도 피해자들에게 사과하고 그에 대한 책임을 지려는 자세를 취하고 있다. 이런 독일인의 모습을 보고 지나간 역사를 어떻게 바라봐야 하는지를 생각할 수 있다.\\n   우리는 역사를 통해서 우리 선조들이 지나온 길을 볼 수 있다. 그 길이 부끄러운 길일 수도 있고 자랑스러운 길일 수도 있다. 하지만 그 모습 자체를 희화화하거나 왜곡해서는 안 된다고 생각한다. 역사에 대해서 객관적인 자세를 취하려는 태도는 굉장히 중요하다고 본다. 부끄러운 역사를 통해서는 다시는 그런 전철을 밟지 않도록 조치해야 하고, 자랑스러운 역사를 통해서는 길이길이 보전해서 현재에도 그런 모습을 가질 수 있도록 후손들이 노력해야 할 것이다.\\n 몇 년 전에 한국에서는 국사 ‘국정교과서’에 대한 논의가 있었던 적이 있었다. 이 부분은 절대 있어서는 안 된다고 본다. 역사에 대한 다양한 시각이 반드시 필요한데, 하나의 교과서로 만들어진다는 것에 염려를 표한다. 역사에 대해서 다양한 시선으로 보는 과점이 현대를 살아가는 우리에게 굉장히 필요한 부분이라고 생각한다.\"\n",
        "    }\n",
        "  ],\n",
        "  temperature=0.7,\n",
        "  max_tokens=512,\n",
        "  top_p=1,\n",
        "  frequency_penalty=0,\n",
        "  presence_penalty=0\n",
        ")\n",
        "answer = response['choices'][0]['message']['content']\n",
        "\n",
        "# 결과 출력\n",
        "print(answer)"
      ],
      "metadata": {
        "colab": {
          "base_uri": "https://localhost:8080/"
        },
        "id": "Jd5Imih5AqSZ",
        "outputId": "dea0116c-4102-48d5-b64f-13e837f9c677"
      },
      "execution_count": 10,
      "outputs": [
        {
          "output_type": "stream",
          "name": "stdout",
          "text": [
            "점수: 45점\n",
            "코멘트: 사용자의 답변은 주제와 문제점을 제대로 파악하고 있으며, 결론도 명확하게 이끌어내고 있다. 글의 내용은 대체로 일관성이 있으며, 역사에 대한 이해와 중요성을 언급하고 있다. 하지만, 글의 구성과 표현에서 일부 부족한 점이 있는 것으로 보인다. 예를 들어, 독일 사람들에 대한 이야기는 주어진 주제와는 약간 거리가 있는 것으로 보입니다. 또한, 글의 표현이 좀 더 다양하고 풍부하게 할 수 있었을 것입니다. 더 나은 구조와 표현을 통해 글을 더욱 완성도 있게 작성해보세요.\n"
          ]
        }
      ]
    },
    {
      "cell_type": "markdown",
      "source": [
        "지시사항 추가"
      ],
      "metadata": {
        "id": "DTXJjG6EEOdu"
      }
    },
    {
      "cell_type": "code",
      "source": [
        "import os\n",
        "import openai\n",
        "\n",
        "openai.api_key = 'OPENAI_API_KEY'\n",
        "\n",
        "response = openai.ChatCompletion.create(\n",
        "  model=\"gpt-3.5-turbo\",\n",
        "  messages=[\n",
        "    {\n",
        "      \"role\": \"system\",\n",
        "      \"content\": \"질문과 제시문이 주어지면 사용자 답안이 이에 따라 주제, 문제점, 결론이 개요에 맞게 잘 구성되었는지 채점하여 잘한 점과 부족한 점에 대해 정리해주는 한국어 교사. 점수는 50점 만점으로 진행한다.\"\n",
        "    },\n",
        "    {\n",
        "      \"role\": \"user\",\n",
        "      \"content\": \"질문: 다음을 주제로 하여 자신의 생각을 600~700자로 글을 쓰시오. 단 문제를 그대로 옮겨 쓰지 마시오.\\n제시문: 세계 어느 나라에서나 역사를 가르칩니다. 이는 지나간 일을 기록한 역사가 오늘날의 우리에게 주는 가치가 분명히 있기 때문일 것입니다. 여러분은 우리가 왜 역사를 알아야 하고, 그 역사를 통해서 무엇을 배울 수 있다고 생각하십니까? 이에 대해 쓰십시오.\\n\\n사용자 답:  독일 사람들에게서 역사를 대하는 방법을 배운다. 제2차 세계대전에서 독일 나치는 굉장히 많은 유대인들을 유대인이라는 이유 하나만으로 잔인하게 학살했다. 이 역사적 사건에 대해서 독일 사람들은 현재에도 피해자들에게 사과하고 그에 대한 책임을 지려는 자세를 취하고 있다. 이런 독일인의 모습을 보고 지나간 역사를 어떻게 바라봐야 하는지를 생각할 수 있다.\\n   우리는 역사를 통해서 우리 선조들이 지나온 길을 볼 수 있다. 그 길이 부끄러운 길일 수도 있고 자랑스러운 길일 수도 있다. 하지만 그 모습 자체를 희화화하거나 왜곡해서는 안 된다고 생각한다. 역사에 대해서 객관적인 자세를 취하려는 태도는 굉장히 중요하다고 본다. 부끄러운 역사를 통해서는 다시는 그런 전철을 밟지 않도록 조치해야 하고, 자랑스러운 역사를 통해서는 길이길이 보전해서 현재에도 그런 모습을 가질 수 있도록 후손들이 노력해야 할 것이다.\\n 몇 년 전에 한국에서는 국사 ‘국정교과서’에 대한 논의가 있었던 적이 있었다. 이 부분은 절대 있어서는 안 된다고 본다. 역사에 대한 다양한 시각이 반드시 필요한데, 하나의 교과서로 만들어진다는 것에 염려를 표한다. 역사에 대해서 다양한 시선으로 보는 과점이 현대를 살아가는 우리에게 굉장히 필요한 부분이라고 생각한다.\"\n",
        "    },\n",
        "     {\n",
        "        \"role\": \"assistant\",\n",
        "        \"content\": \"지시사항:\\n점수: 00점\\n잘한점:\\n부족한점:\"\n",
        "    }\n",
        "  ],\n",
        "  temperature=0.7,\n",
        "  max_tokens=512,\n",
        "  top_p=1,\n",
        "  frequency_penalty=0,\n",
        "  presence_penalty=0\n",
        ")\n",
        "answer = response['choices'][0]['message']['content']\n",
        "\n",
        "# 결과 출력\n",
        "print(answer)"
      ],
      "metadata": {
        "colab": {
          "base_uri": "https://localhost:8080/"
        },
        "id": "uqpl0YVYDnj8",
        "outputId": "9aced5f3-2971-4a32-a667-ca3f9bb4d060"
      },
      "execution_count": 11,
      "outputs": [
        {
          "output_type": "stream",
          "name": "stdout",
          "text": [
            "점수: 30점\n",
            "잘한점:\n",
            "- 주어진 주제에 대해 생각하고 글을 쓴 점.\n",
            "- 역사를 통해 우리가 얻을 수 있는 교훈에 대해 언급한 점.\n",
            "\n",
            "부족한점:\n",
            "- 주어진 제시문에 대한 정확한 이해와 분석이 부족하다.\n",
            "- 주어진 질문에 대한 구체적인 대답이 부족하다.\n",
            "- 주제 전체에 대한 개괄적인 설명이 부족하다.\n",
            "- 글의 구성과 흐름이 일관성이 없다.\n",
            "- 문장과 문단 구조가 불완전하고 어색하다.\n",
            "- 글의 표현이 부족하고 간결하지 않다. \n",
            "\n",
            "개선할 점:\n",
            "- 주어진 제시문을 정확히 이해하고 분석한 후에 글을 쓰도록 노력해야 한다.\n",
            "- 주어진 질문에 대한 구체적이고 명확한 대답을 제시해야 한다.\n",
            "- 글의 구성과 흐름을 잘 이어야 한다. 개요, 본론, 결론을 명확하게 구분해야 한다.\n",
            "- 문장과 문단 구조를 개선하여 글이 더 읽기 쉽고 간결하게 표현되도록 해야 한다.\n",
            "- 문법과 맞춤법에 신경써야 한다.\n"
          ]
        }
      ]
    }
  ]
}