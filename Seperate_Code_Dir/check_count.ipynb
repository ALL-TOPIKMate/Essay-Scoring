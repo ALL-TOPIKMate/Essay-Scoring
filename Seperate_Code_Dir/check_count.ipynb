{
  "nbformat": 4,
  "nbformat_minor": 0,
  "metadata": {
    "colab": {
      "provenance": []
    },
    "kernelspec": {
      "name": "python3",
      "display_name": "Python 3"
    },
    "language_info": {
      "name": "python"
    }
  },
  "cells": [
    {
      "cell_type": "markdown",
      "source": [
        "## 글자수 세기"
      ],
      "metadata": {
        "id": "EjE7P3dZCm6F"
      }
    },
    {
      "cell_type": "code",
      "execution_count": 2,
      "metadata": {
        "colab": {
          "base_uri": "https://localhost:8080/"
        },
        "id": "kNwldfl6A9wI",
        "outputId": "68b12f2d-a21b-4314-ae6c-92e2959932fe"
      },
      "outputs": [
        {
          "output_type": "stream",
          "name": "stdout",
          "text": [
            "303\n"
          ]
        }
      ],
      "source": [
        "test = '인주시의 자전거 이용자 변화를 살펴보면, 자전거 이용자 수는 2007년 4만 명에서 2012년에는 9만 명, 2017년에는 21만 명으로, 지난 10년간 약 5배 증가하였다. 특히 2012년분터 2017년까지 자전거 이용하는 사람수가 급증한 것으로 나타났다.  이와 같이 자전거 이용자 수가 증가한 이유는 자전거 도로가 개발돼고 자전거 빌리는 곳이 홝대됐기 때문인 것으로 보인다. 자전거 이용 목적을 보면, 10년간 운동 과 산책은 4배, 출퇴근은 14배, 기타는 3배 늘어난 것으로 나타났으며, 출퇴근시 이용이 가장 높은 증가율을 보였다. '\n",
        "cnt=0\n",
        "for i in range(len(test)):\n",
        "  cnt+=1\n",
        "print(cnt)"
      ]
    },
    {
      "cell_type": "markdown",
      "source": [
        "## 문항에서 글자수 확인하기"
      ],
      "metadata": {
        "id": "8Jb36NRlrVom"
      }
    },
    {
      "cell_type": "code",
      "source": [
        "question = '다음을 참고하여 \\'인주시의 자전거 이용자 변화\\'에 대한 글을 200~300자 내로 쓰시오. 단 글의 제목을 쓰지 마시오(30점)'\n",
        "for i in range(len(question)):\n",
        "  if question[i] == '자':\n",
        "    max_length = question[i-3:i]\n",
        "    min_length = question[i-7:i-4]\n",
        "print(len(test))\n",
        "if len(test) > int(max_length):\n",
        "  print('글자 수가 초과되었습니다.')\n",
        "elif len(test) < int(min_length):\n",
        "  print('글자 수가 부족합니다.')\n",
        "else:\n",
        "  print('글자 수가 적당합니다')"
      ],
      "metadata": {
        "colab": {
          "base_uri": "https://localhost:8080/"
        },
        "id": "K0mh7nRArYzH",
        "outputId": "fa2b82a9-bb8b-4fd1-9b91-9e832bb7b0b7"
      },
      "execution_count": 11,
      "outputs": [
        {
          "output_type": "stream",
          "name": "stdout",
          "text": [
            "303\n",
            "글자 수가 초과되었습니다.\n"
          ]
        }
      ]
    }
  ]
}