{
  "nbformat": 4,
  "nbformat_minor": 0,
  "metadata": {
    "colab": {
      "provenance": []
    },
    "kernelspec": {
      "name": "python3",
      "display_name": "Python 3"
    },
    "language_info": {
      "name": "python"
    }
  },
  "cells": [
    {
      "cell_type": "markdown",
      "source": [
        "# 문장 표현 검사"
      ],
      "metadata": {
        "id": "H7EZl7YlfV0W"
      }
    },
    {
      "cell_type": "code",
      "execution_count": 1,
      "metadata": {
        "colab": {
          "base_uri": "https://localhost:8080/"
        },
        "id": "pFrd_g3docze",
        "outputId": "cc008235-6b17-451c-d82e-0400f063cdf8"
      },
      "outputs": [
        {
          "output_type": "stream",
          "name": "stdout",
          "text": [
            "Collecting konlpy\n",
            "  Downloading konlpy-0.6.0-py2.py3-none-any.whl (19.4 MB)\n",
            "\u001b[2K     \u001b[90m━━━━━━━━━━━━━━━━━━━━━━━━━━━━━━━━━━━━━━━━\u001b[0m \u001b[32m19.4/19.4 MB\u001b[0m \u001b[31m45.9 MB/s\u001b[0m eta \u001b[36m0:00:00\u001b[0m\n",
            "\u001b[?25hCollecting JPype1>=0.7.0 (from konlpy)\n",
            "  Downloading JPype1-1.4.1-cp310-cp310-manylinux_2_12_x86_64.manylinux2010_x86_64.whl (465 kB)\n",
            "\u001b[2K     \u001b[90m━━━━━━━━━━━━━━━━━━━━━━━━━━━━━━━━━━━━━━\u001b[0m \u001b[32m465.3/465.3 kB\u001b[0m \u001b[31m27.4 MB/s\u001b[0m eta \u001b[36m0:00:00\u001b[0m\n",
            "\u001b[?25hRequirement already satisfied: lxml>=4.1.0 in /usr/local/lib/python3.10/dist-packages (from konlpy) (4.9.3)\n",
            "Requirement already satisfied: numpy>=1.6 in /usr/local/lib/python3.10/dist-packages (from konlpy) (1.22.4)\n",
            "Requirement already satisfied: packaging in /usr/local/lib/python3.10/dist-packages (from JPype1>=0.7.0->konlpy) (23.1)\n",
            "Installing collected packages: JPype1, konlpy\n",
            "Successfully installed JPype1-1.4.1 konlpy-0.6.0\n"
          ]
        }
      ],
      "source": [
        "!pip install konlpy"
      ]
    },
    {
      "cell_type": "markdown",
      "source": [
        "품사를 검사해서 초급 표현을 걸러내보자"
      ],
      "metadata": {
        "id": "Skz-_Dzuotml"
      }
    },
    {
      "cell_type": "code",
      "source": [
        "import konlpy\n",
        "from konlpy.tag import Okt\n",
        "c = '''결혼문화연구소에서 20대 이상 성인 남며 3,000명을 대상을 \\'아이를 꼭 낳아야 하는가\\'에 대해 조사하였다. \\'아이를 꼭 낳아야 하는가\\'에 대해 남자는 \\'그렇다\\'가 80%, \\'아니다\\'가 20% 나왔고, 여자는 \\'그렇다\\'가 67%, \\'아니다\\'가 33% 나왔다. \\'아이를 꼭 낳아야 하는가\\'에 대해 남자가 여자에 비해 긍정적으로 생각하는 것을 볼 수 있다.\n",
        "\n",
        "  \\'아니다\\'라고 응답한 이유에 대해 남자는 첫째, 양육비가 부담되어서이고 둘째, 자유로운 생활을 할 수 없어서라고 대답했다. 여자는 첫째가 자유로운 생활을 할 수 없어서이고, 둘째가 직장 생활을 유지하기 위해서라고 대답했다. 남녀 모두 아이를 낳으면 자유로운 생활에 제약을 받는다고 생각하고 있다.\n",
        "\n",
        "'''\n",
        "t = Okt()\n",
        "t.pos(c[:])\n"
      ],
      "metadata": {
        "colab": {
          "base_uri": "https://localhost:8080/"
        },
        "id": "sxzpKELnoxc9",
        "outputId": "e6fb8e5d-b553-422e-a82b-5c2fe6ea27f0"
      },
      "execution_count": 7,
      "outputs": [
        {
          "output_type": "execute_result",
          "data": {
            "text/plain": [
              "[('결혼', 'Noun'),\n",
              " ('문화', 'Noun'),\n",
              " ('연구소', 'Noun'),\n",
              " ('에서', 'Josa'),\n",
              " ('20', 'Number'),\n",
              " ('대', 'Verb'),\n",
              " ('이상', 'Noun'),\n",
              " ('성인', 'Noun'),\n",
              " ('남', 'Noun'),\n",
              " ('며', 'Josa'),\n",
              " ('3,000', 'Number'),\n",
              " ('명', 'Noun'),\n",
              " ('을', 'Josa'),\n",
              " ('대상', 'Noun'),\n",
              " ('을', 'Josa'),\n",
              " (\"'\", 'Punctuation'),\n",
              " ('아이', 'Noun'),\n",
              " ('를', 'Josa'),\n",
              " ('꼭', 'Noun'),\n",
              " ('낳아야', 'Verb'),\n",
              " ('하는가', 'Verb'),\n",
              " (\"'\", 'Punctuation'),\n",
              " ('에', 'Josa'),\n",
              " ('대해', 'Noun'),\n",
              " ('조사', 'Noun'),\n",
              " ('하였다', 'Verb'),\n",
              " ('.', 'Punctuation'),\n",
              " (\"'\", 'Punctuation'),\n",
              " ('아이', 'Noun'),\n",
              " ('를', 'Josa'),\n",
              " ('꼭', 'Noun'),\n",
              " ('낳아야', 'Verb'),\n",
              " ('하는가', 'Verb'),\n",
              " (\"'\", 'Punctuation'),\n",
              " ('에', 'Josa'),\n",
              " ('대해', 'Noun'),\n",
              " ('남자', 'Noun'),\n",
              " ('는', 'Josa'),\n",
              " (\"'\", 'Punctuation'),\n",
              " ('그렇다', 'Adjective'),\n",
              " (\"'\", 'Punctuation'),\n",
              " ('가', 'Verb'),\n",
              " ('80%', 'Number'),\n",
              " (',', 'Foreign'),\n",
              " (\"'\", 'Punctuation'),\n",
              " ('아니다', 'Adjective'),\n",
              " (\"'\", 'Punctuation'),\n",
              " ('가', 'Verb'),\n",
              " ('20%', 'Number'),\n",
              " ('나왔고', 'Verb'),\n",
              " (',', 'Punctuation'),\n",
              " ('여자', 'Noun'),\n",
              " ('는', 'Josa'),\n",
              " (\"'\", 'Punctuation'),\n",
              " ('그렇다', 'Adjective'),\n",
              " (\"'\", 'Punctuation'),\n",
              " ('가', 'Verb'),\n",
              " ('67%', 'Number'),\n",
              " (',', 'Foreign'),\n",
              " (\"'\", 'Punctuation'),\n",
              " ('아니다', 'Adjective'),\n",
              " (\"'\", 'Punctuation'),\n",
              " ('가', 'Verb'),\n",
              " ('33%', 'Number'),\n",
              " ('나왔다', 'Verb'),\n",
              " ('.', 'Punctuation'),\n",
              " (\"'\", 'Punctuation'),\n",
              " ('아이', 'Noun'),\n",
              " ('를', 'Josa'),\n",
              " ('꼭', 'Noun'),\n",
              " ('낳아야', 'Verb'),\n",
              " ('하는가', 'Verb'),\n",
              " (\"'\", 'Punctuation'),\n",
              " ('에', 'Josa'),\n",
              " ('대해', 'Noun'),\n",
              " ('남자', 'Noun'),\n",
              " ('가', 'Josa'),\n",
              " ('여자', 'Noun'),\n",
              " ('에', 'Josa'),\n",
              " ('비해', 'Verb'),\n",
              " ('긍정', 'Noun'),\n",
              " ('적', 'Suffix'),\n",
              " ('으로', 'Josa'),\n",
              " ('생각', 'Noun'),\n",
              " ('하는', 'Verb'),\n",
              " ('것', 'Noun'),\n",
              " ('을', 'Josa'),\n",
              " ('볼', 'Noun'),\n",
              " ('수', 'Noun'),\n",
              " ('있다', 'Adjective'),\n",
              " ('.', 'Punctuation'),\n",
              " ('\\n\\n  ', 'Foreign'),\n",
              " (\"'\", 'Punctuation'),\n",
              " ('아니다', 'Adjective'),\n",
              " (\"'\", 'Punctuation'),\n",
              " ('라고', 'Josa'),\n",
              " ('응답', 'Noun'),\n",
              " ('한', 'Josa'),\n",
              " ('이유', 'Noun'),\n",
              " ('에', 'Josa'),\n",
              " ('대해', 'Noun'),\n",
              " ('남자', 'Noun'),\n",
              " ('는', 'Josa'),\n",
              " ('첫째', 'Noun'),\n",
              " (',', 'Punctuation'),\n",
              " ('양육비', 'Noun'),\n",
              " ('가', 'Josa'),\n",
              " ('부담', 'Noun'),\n",
              " ('되어서이고', 'Verb'),\n",
              " ('둘째', 'Noun'),\n",
              " (',', 'Punctuation'),\n",
              " ('자유로운', 'Adjective'),\n",
              " ('생활', 'Noun'),\n",
              " ('을', 'Josa'),\n",
              " ('할', 'Verb'),\n",
              " ('수', 'Noun'),\n",
              " ('없', 'Adjective'),\n",
              " ('어서', 'Noun'),\n",
              " ('라고', 'Josa'),\n",
              " ('대답', 'Noun'),\n",
              " ('했다', 'Verb'),\n",
              " ('.', 'Punctuation'),\n",
              " ('여자', 'Noun'),\n",
              " ('는', 'Josa'),\n",
              " ('첫째', 'Noun'),\n",
              " ('가', 'Josa'),\n",
              " ('자유로운', 'Adjective'),\n",
              " ('생활', 'Noun'),\n",
              " ('을', 'Josa'),\n",
              " ('할', 'Verb'),\n",
              " ('수', 'Noun'),\n",
              " ('없', 'Adjective'),\n",
              " ('어서', 'Noun'),\n",
              " ('이고', 'Josa'),\n",
              " (',', 'Punctuation'),\n",
              " ('둘째', 'Noun'),\n",
              " ('가', 'Josa'),\n",
              " ('직장', 'Noun'),\n",
              " ('생활', 'Noun'),\n",
              " ('을', 'Josa'),\n",
              " ('유지', 'Noun'),\n",
              " ('하기', 'Verb'),\n",
              " ('위', 'Noun'),\n",
              " ('해서라고', 'Verb'),\n",
              " ('대답', 'Noun'),\n",
              " ('했다', 'Verb'),\n",
              " ('.', 'Punctuation'),\n",
              " ('남녀', 'Noun'),\n",
              " ('모두', 'Noun'),\n",
              " ('아이', 'Noun'),\n",
              " ('를', 'Josa'),\n",
              " ('낳으면', 'Verb'),\n",
              " ('자유로운', 'Adjective'),\n",
              " ('생활', 'Noun'),\n",
              " ('에', 'Josa'),\n",
              " ('제약', 'Noun'),\n",
              " ('을', 'Josa'),\n",
              " ('받는다고', 'Verb'),\n",
              " ('생각', 'Noun'),\n",
              " ('하고', 'Josa'),\n",
              " ('있다', 'Adjective'),\n",
              " ('.', 'Punctuation'),\n",
              " ('\\n\\n', 'Foreign')]"
            ]
          },
          "metadata": {},
          "execution_count": 7
        }
      ]
    },
    {
      "cell_type": "code",
      "source": [
        "import konlpy\n",
        "from konlpy.tag import Okt\n",
        "c = ''' 결혼문화연구소에서 '아이를 꼭 낳아야 하는가 '에 대해 조사를 진행하였습니다. 그렇다고 응답한 비율이 남성이 80%, 여성이 67%\n",
        "라고 했습니다. 아니다라는 비율은 남성이 20%, 여성이 33%라고 응답했어요. '아니다'라고 응답한 이유로는 남성은 양육비 부담을, 여성은 자유로운 생활을 1위로\n",
        "하였고 2위는 자유로운 생활, 여성은 직장생활 유지라고 했어요\n",
        "'''\n",
        "t = Okt()\n",
        "t.pos(c[:])"
      ],
      "metadata": {
        "colab": {
          "base_uri": "https://localhost:8080/"
        },
        "id": "dAPmpyb9qlRq",
        "outputId": "e4572d69-53e9-404d-a077-13082a0a2294"
      },
      "execution_count": 12,
      "outputs": [
        {
          "output_type": "execute_result",
          "data": {
            "text/plain": [
              "[('결혼', 'Noun'),\n",
              " ('문화', 'Noun'),\n",
              " ('연구소', 'Noun'),\n",
              " ('에서', 'Josa'),\n",
              " (\"'\", 'Punctuation'),\n",
              " ('아이', 'Noun'),\n",
              " ('를', 'Josa'),\n",
              " ('꼭', 'Noun'),\n",
              " ('낳아야', 'Verb'),\n",
              " ('하는가', 'Verb'),\n",
              " (\"'\", 'Punctuation'),\n",
              " ('에', 'Josa'),\n",
              " ('대해', 'Noun'),\n",
              " ('조사', 'Noun'),\n",
              " ('를', 'Josa'),\n",
              " ('진행', 'Noun'),\n",
              " ('하였습니다', 'Verb'),\n",
              " ('.', 'Punctuation'),\n",
              " ('그렇다고', 'Conjunction'),\n",
              " ('응답', 'Noun'),\n",
              " ('한', 'Josa'),\n",
              " ('비율', 'Noun'),\n",
              " ('이', 'Josa'),\n",
              " ('남성', 'Noun'),\n",
              " ('이', 'Josa'),\n",
              " ('80%', 'Number'),\n",
              " (',', 'Foreign'),\n",
              " ('여성', 'Noun'),\n",
              " ('이', 'Josa'),\n",
              " ('67%', 'Number'),\n",
              " ('\\n', 'Foreign'),\n",
              " ('라고', 'Josa'),\n",
              " ('했습니다', 'Verb'),\n",
              " ('.', 'Punctuation'),\n",
              " ('아니다라는', 'Adjective'),\n",
              " ('비율', 'Noun'),\n",
              " ('은', 'Josa'),\n",
              " ('남성', 'Noun'),\n",
              " ('이', 'Josa'),\n",
              " ('20%', 'Number'),\n",
              " (',', 'Foreign'),\n",
              " ('여성', 'Noun'),\n",
              " ('이', 'Josa'),\n",
              " ('33%', 'Number'),\n",
              " ('라고', 'Josa'),\n",
              " ('응답', 'Noun'),\n",
              " ('했어요', 'Verb'),\n",
              " ('.', 'Punctuation'),\n",
              " (\"'\", 'Punctuation'),\n",
              " ('아니다', 'Adjective'),\n",
              " (\"'\", 'Punctuation'),\n",
              " ('라고', 'Josa'),\n",
              " ('응답', 'Noun'),\n",
              " ('한', 'Josa'),\n",
              " ('이유', 'Noun'),\n",
              " ('로는', 'Josa'),\n",
              " ('남성은', 'Noun'),\n",
              " ('양육비', 'Noun'),\n",
              " ('부담', 'Noun'),\n",
              " ('을', 'Josa'),\n",
              " (',', 'Punctuation'),\n",
              " ('여성', 'Noun'),\n",
              " ('은', 'Josa'),\n",
              " ('자유로운', 'Adjective'),\n",
              " ('생활', 'Noun'),\n",
              " ('을', 'Josa'),\n",
              " ('1', 'Number'),\n",
              " ('위로', 'Noun'),\n",
              " ('하였고', 'Verb'),\n",
              " ('2', 'Number'),\n",
              " ('위', 'Noun'),\n",
              " ('는', 'Josa'),\n",
              " ('자유로운', 'Adjective'),\n",
              " ('생활', 'Noun'),\n",
              " (',', 'Punctuation'),\n",
              " ('여성', 'Noun'),\n",
              " ('은', 'Josa'),\n",
              " ('직장', 'Noun'),\n",
              " ('생활', 'Noun'),\n",
              " ('유지', 'Noun'),\n",
              " ('라고', 'Josa'),\n",
              " ('했어요', 'Verb'),\n",
              " ('\\n', 'Foreign')]"
            ]
          },
          "metadata": {},
          "execution_count": 12
        }
      ]
    },
    {
      "cell_type": "code",
      "source": [
        "from konlpy.tag import *\n",
        "hannanum = Hannanum()\n",
        "kkma = Kkma()\n",
        "komoran = Komoran()"
      ],
      "metadata": {
        "id": "yPB1Dx5juh33"
      },
      "execution_count": 26,
      "outputs": []
    },
    {
      "cell_type": "code",
      "source": [
        "#import konlpy\n",
        "#from konlpy.tag import Okt\n",
        "c = ''' 결혼문화연구소에서 '아이를 꼭 낳아야 하는가 '에 대해 조사를 진행하였습니다. 그렇다고 응답한 비율이 남성이 80% 지만 여성이 67%\n",
        "라고 했습니다. 아니다라는 비율은 남성이 20%, 여성이 33%라고 응답했어요. '아니다'라고 응답한 이유로는 남성은 양육비 부담을 언급한것과 달리 여성은 자유로운 생활을 1위로\n",
        "하였다. 2위는 남성은 자유로운 생활을 뽑는데 반해 여성은 직장생활 유지를 언급하였다.\n",
        "'''\n",
        "t = Komoran()\n",
        "#t = Okt()\n",
        "t.pos(c[:])"
      ],
      "metadata": {
        "colab": {
          "base_uri": "https://localhost:8080/"
        },
        "id": "EwF3ptC7tvrf",
        "outputId": "777ecbca-8c7e-438e-f815-aa708b556306"
      },
      "execution_count": 39,
      "outputs": [
        {
          "output_type": "execute_result",
          "data": {
            "text/plain": [
              "[('결혼', 'NNP'),\n",
              " ('문화', 'NNP'),\n",
              " ('연구소', 'NNP'),\n",
              " ('에서', 'JKB'),\n",
              " (\"'\", 'SS'),\n",
              " ('아이', 'NNG'),\n",
              " ('를', 'JKO'),\n",
              " ('꼭', 'MAG'),\n",
              " ('낳', 'VV'),\n",
              " ('아야', 'EC'),\n",
              " ('하', 'VV'),\n",
              " ('는가', 'EC'),\n",
              " (\"'\", 'SS'),\n",
              " ('에', 'JKB'),\n",
              " ('대하', 'VV'),\n",
              " ('아', 'EC'),\n",
              " ('조사', 'NNG'),\n",
              " ('를', 'JKO'),\n",
              " ('진행', 'NNG'),\n",
              " ('하', 'XSV'),\n",
              " ('았', 'EP'),\n",
              " ('습니다', 'EF'),\n",
              " ('.', 'SF'),\n",
              " ('그렇', 'VA'),\n",
              " ('다고', 'EC'),\n",
              " ('응답', 'NNG'),\n",
              " ('하', 'XSV'),\n",
              " ('ㄴ', 'ETM'),\n",
              " ('비율', 'NNG'),\n",
              " ('이', 'JKS'),\n",
              " ('남성', 'NNG'),\n",
              " ('이', 'JKS'),\n",
              " ('80', 'SN'),\n",
              " ('%', 'SW'),\n",
              " ('지만', 'NNP'),\n",
              " ('여성', 'NNG'),\n",
              " ('이', 'JKS'),\n",
              " ('67', 'SN'),\n",
              " ('%', 'SW'),\n",
              " ('라고', 'NNP'),\n",
              " ('하', 'VV'),\n",
              " ('았', 'EP'),\n",
              " ('습니다', 'EF'),\n",
              " ('.', 'SF'),\n",
              " ('아니', 'VCN'),\n",
              " ('다라는', 'ETM'),\n",
              " ('비율', 'NNG'),\n",
              " ('은', 'JX'),\n",
              " ('남성', 'NNG'),\n",
              " ('이', 'JKS'),\n",
              " ('20', 'SN'),\n",
              " ('%', 'SW'),\n",
              " (',', 'SP'),\n",
              " ('여성', 'NNG'),\n",
              " ('이', 'JKS'),\n",
              " ('33', 'SN'),\n",
              " ('%', 'SW'),\n",
              " ('라고', 'NNP'),\n",
              " ('응답', 'NNG'),\n",
              " ('하', 'XSV'),\n",
              " ('았', 'EP'),\n",
              " ('어요', 'EF'),\n",
              " ('.', 'SF'),\n",
              " (\"'\", 'SS'),\n",
              " ('아니', 'VCN'),\n",
              " ('다', 'EC'),\n",
              " (\"'\", 'SS'),\n",
              " ('라고', 'JKQ'),\n",
              " ('응답', 'NNG'),\n",
              " ('하', 'XSV'),\n",
              " ('ㄴ', 'ETM'),\n",
              " ('이유', 'NNG'),\n",
              " ('로', 'JKB'),\n",
              " ('는', 'JX'),\n",
              " ('남성', 'NNG'),\n",
              " ('은', 'JX'),\n",
              " ('양육비', 'NNG'),\n",
              " ('부담', 'NNG'),\n",
              " ('을', 'JKO'),\n",
              " ('언급', 'NNG'),\n",
              " ('하', 'XSV'),\n",
              " ('ㄴ', 'ETM'),\n",
              " ('것', 'NNB'),\n",
              " ('과', 'JKB'),\n",
              " ('달리', 'MAG'),\n",
              " ('여성', 'NNG'),\n",
              " ('은', 'JX'),\n",
              " ('자유', 'NNG'),\n",
              " ('롭', 'XSA'),\n",
              " ('ㄴ', 'ETM'),\n",
              " ('생활', 'NNG'),\n",
              " ('을', 'JKO'),\n",
              " ('1', 'SN'),\n",
              " ('위', 'NNB'),\n",
              " ('로', 'JKB'),\n",
              " ('하', 'VV'),\n",
              " ('았', 'EP'),\n",
              " ('다', 'EF'),\n",
              " ('.', 'SF'),\n",
              " ('2', 'SN'),\n",
              " ('위', 'NNB'),\n",
              " ('는', 'JX'),\n",
              " ('남성', 'NNG'),\n",
              " ('은', 'JX'),\n",
              " ('자유', 'NNG'),\n",
              " ('롭', 'XSA'),\n",
              " ('ㄴ', 'ETM'),\n",
              " ('생활', 'NNG'),\n",
              " ('을', 'JKO'),\n",
              " ('뽑', 'VV'),\n",
              " ('는데', 'EC'),\n",
              " ('반하', 'VV'),\n",
              " ('아', 'EC'),\n",
              " ('여성', 'NNG'),\n",
              " ('은', 'JX'),\n",
              " ('직장', 'NNP'),\n",
              " ('생활', 'NNP'),\n",
              " ('유지', 'NNG'),\n",
              " ('를', 'JKO'),\n",
              " ('언급', 'NNG'),\n",
              " ('하', 'XSV'),\n",
              " ('았', 'EP'),\n",
              " ('다', 'EF'),\n",
              " ('.', 'SF')]"
            ]
          },
          "metadata": {},
          "execution_count": 39
        }
      ]
    },
    {
      "cell_type": "markdown",
      "source": [
        "아래와 같이 초급 표현이 포함되어 있는지 확인을 해준다. 반복된 횟수만큼 감점한다. \\\n",
        "근거: ‘-습니다., -요’로 문장 끝맺으면 감점된다. 이것은 초급 표현이기 때문이다."
      ],
      "metadata": {
        "id": "zooeIbQ4tHV9"
      }
    },
    {
      "cell_type": "code",
      "source": [
        "check = t.pos(c[:])\n",
        "cnt = 0\n",
        "for i in range(len(check)):\n",
        "  if check[i][0].endswith('습니다') or check[i][0].endswith('요'):\n",
        "    cnt+=1\n",
        "print(cnt)"
      ],
      "metadata": {
        "colab": {
          "base_uri": "https://localhost:8080/"
        },
        "id": "8UkFUljTrgXw",
        "outputId": "434b892d-597c-4c00-c7f3-e846f2d58ad0"
      },
      "execution_count": 21,
      "outputs": [
        {
          "output_type": "stream",
          "name": "stdout",
          "text": [
            "4\n"
          ]
        }
      ]
    },
    {
      "cell_type": "markdown",
      "source": [
        "아래와 같이 대조하는 특정 표현이 포함되어있는지 확인을 해준다. 반복된 횟수만큼 가점한다.\\\n",
        "근거: 대조하는 글을 쓸 때 ‘-지만, -는데 반해, -와 달리’ 표현을 넣으면 좋다."
      ],
      "metadata": {
        "id": "s0-ByeAxtiWL"
      }
    },
    {
      "cell_type": "code",
      "source": [
        "print(c)"
      ],
      "metadata": {
        "colab": {
          "base_uri": "https://localhost:8080/"
        },
        "id": "4z35rHpLxqVq",
        "outputId": "e436eb2c-1b85-404b-b12a-7583e074ba10"
      },
      "execution_count": 40,
      "outputs": [
        {
          "output_type": "stream",
          "name": "stdout",
          "text": [
            " 결혼문화연구소에서 '아이를 꼭 낳아야 하는가 '에 대해 조사를 진행하였습니다. 그렇다고 응답한 비율이 남성이 80% 지만 여성이 67%\n",
            "라고 했습니다. 아니다라는 비율은 남성이 20%, 여성이 33%라고 응답했어요. '아니다'라고 응답한 이유로는 남성은 양육비 부담을 언급한것과 달리 여성은 자유로운 생활을 1위로 \n",
            "하였다. 2위는 남성은 자유로운 생활을 뽑는데 반해 여성은 직장생활 유지를 언급하였다.\n",
            "\n"
          ]
        }
      ]
    },
    {
      "cell_type": "code",
      "source": [
        "import re\n",
        "pattern = re.compile(r'지만|는데 반해|와 달리|과 달리')\n",
        "matches = re.findall(pattern, c)\n",
        "print(len(matches))"
      ],
      "metadata": {
        "colab": {
          "base_uri": "https://localhost:8080/"
        },
        "id": "3NGFVs_quIym",
        "outputId": "4c0deca5-fc7c-4236-ead5-176e6c29f967"
      },
      "execution_count": 42,
      "outputs": [
        {
          "output_type": "stream",
          "name": "stdout",
          "text": [
            "3\n"
          ]
        }
      ]
    },
    {
      "cell_type": "code",
      "source": [
        "c = '지만 지만 는데 반해 와 달리 와 달리'\n",
        "import re\n",
        "pattern = re.compile(r'지만|는데 반해|와 달리|과 달리')\n",
        "matches = re.findall(pattern, c)\n",
        "print(len(matches))"
      ],
      "metadata": {
        "colab": {
          "base_uri": "https://localhost:8080/"
        },
        "id": "smUGeU_LzhF_",
        "outputId": "fef4fb66-09cd-46cb-c7ef-9d097193e695"
      },
      "execution_count": 43,
      "outputs": [
        {
          "output_type": "stream",
          "name": "stdout",
          "text": [
            "5\n"
          ]
        }
      ]
    }
  ]
}