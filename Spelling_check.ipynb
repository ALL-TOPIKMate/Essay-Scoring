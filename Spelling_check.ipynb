{
  "nbformat": 4,
  "nbformat_minor": 0,
  "metadata": {
    "colab": {
      "provenance": []
    },
    "kernelspec": {
      "name": "python3",
      "display_name": "Python 3"
    },
    "language_info": {
      "name": "python"
    }
  },
  "cells": [
    {
      "cell_type": "markdown",
      "source": [
        "# 네이버 맞춤법 검사기"
      ],
      "metadata": {
        "id": "HV8kXkviPAfN"
      }
    },
    {
      "cell_type": "code",
      "execution_count": 1,
      "metadata": {
        "colab": {
          "base_uri": "https://localhost:8080/"
        },
        "id": "EGefUzkBO3Tj",
        "outputId": "f8491168-8228-4da3-bff9-18d928abc197"
      },
      "outputs": [
        {
          "output_type": "stream",
          "name": "stdout",
          "text": [
            "Collecting git+https://github.com/ssut/py-hanspell.git\n",
            "  Cloning https://github.com/ssut/py-hanspell.git to /tmp/pip-req-build-p0wo3_3d\n",
            "  Running command git clone --filter=blob:none --quiet https://github.com/ssut/py-hanspell.git /tmp/pip-req-build-p0wo3_3d\n",
            "  Resolved https://github.com/ssut/py-hanspell.git to commit fdc6ca50c19f1c85971437a072d89d4e5ce024b8\n",
            "  Preparing metadata (setup.py) ... \u001b[?25l\u001b[?25hdone\n",
            "Requirement already satisfied: requests in /usr/local/lib/python3.10/dist-packages (from py-hanspell==1.1) (2.27.1)\n",
            "Requirement already satisfied: urllib3<1.27,>=1.21.1 in /usr/local/lib/python3.10/dist-packages (from requests->py-hanspell==1.1) (1.26.16)\n",
            "Requirement already satisfied: certifi>=2017.4.17 in /usr/local/lib/python3.10/dist-packages (from requests->py-hanspell==1.1) (2023.7.22)\n",
            "Requirement already satisfied: charset-normalizer~=2.0.0 in /usr/local/lib/python3.10/dist-packages (from requests->py-hanspell==1.1) (2.0.12)\n",
            "Requirement already satisfied: idna<4,>=2.5 in /usr/local/lib/python3.10/dist-packages (from requests->py-hanspell==1.1) (3.4)\n",
            "Building wheels for collected packages: py-hanspell\n",
            "  Building wheel for py-hanspell (setup.py) ... \u001b[?25l\u001b[?25hdone\n",
            "  Created wheel for py-hanspell: filename=py_hanspell-1.1-py3-none-any.whl size=4810 sha256=f29ec248db829880e65110fb3faaf90b7fe249f7b2915e2da15ca019667f90a5\n",
            "  Stored in directory: /tmp/pip-ephem-wheel-cache-jj41jztw/wheels/2e/43/cc/753c9e1d91affb9ea40e186cea5654fb9231deb454da6724e5\n",
            "Successfully built py-hanspell\n",
            "Installing collected packages: py-hanspell\n",
            "Successfully installed py-hanspell-1.1\n"
          ]
        }
      ],
      "source": [
        "!pip install git+https://github.com/ssut/py-hanspell.git"
      ]
    },
    {
      "cell_type": "code",
      "source": [
        "from hanspell import spell_checker\n",
        "def spell_checking(test):\n",
        "\n",
        "    test = spell_checker.check(test)\n",
        "    test = test.as_dict()\n",
        "    for word, error in test['words'].items():\n",
        "      if error == 0:\n",
        "          print(f\"{word}: 통과\")\n",
        "      elif error == 1:\n",
        "          print(f\"{word}: 맞춤법에 문제가 있는 단어 또는 구절\")\n",
        "      elif error == 2:\n",
        "          print(f\"{word}: 띄어쓰기에 문제가 있는 단어 또는 구절\")\n",
        "      elif error == 3:\n",
        "          print(f\"{word}: 표준어가 의심되는 단어 또는 구절\")\n",
        "      elif error == 4:\n",
        "          print(f\"{word}: 통계적 교정에 따른 단어 또는 구절\")\n",
        "    print('=====')\n",
        "result = '작년 대비 소비자물가가 33%증가했다.'\n",
        "spell_checking(result)"
      ],
      "metadata": {
        "colab": {
          "base_uri": "https://localhost:8080/"
        },
        "id": "9aSGY8sTPE2H",
        "outputId": "5f30a53f-7a95-4396-ca61-4fc1bcb87c7d"
      },
      "execution_count": 5,
      "outputs": [
        {
          "output_type": "stream",
          "name": "stdout",
          "text": [
            "작년: 통과\n",
            "대비: 통과\n",
            "소비자물가가: 통과\n",
            "33%: 띄어쓰기에 문제가 있는 단어 또는 구절\n",
            "증가했다.: 띄어쓰기에 문제가 있는 단어 또는 구절\n",
            "=====\n"
          ]
        }
      ]
    },
    {
      "cell_type": "markdown",
      "source": [
        "# 부산대 맞춤법 검사기"
      ],
      "metadata": {
        "id": "Nah907j4PZ_L"
      }
    },
    {
      "cell_type": "code",
      "source": [
        "import requests\n",
        "import json\n",
        "\n",
        "\n",
        "def pusan_univ_spell(text):\n",
        "\n",
        "  text = text.replace('\\n', '\\r\\n')\n",
        "  # 2. 맞춤법 검사 요청 (requests)\n",
        "  response = requests.post('http://164.125.7.61/speller/results', data={'text1': text})\n",
        "  try:\n",
        "    # 3. 응답에서 필요한 내용 추출 (html 파싱)\n",
        "    data = response.text.split('data = [', 1)[-1].rsplit('];', 1)[0]\n",
        "\n",
        "    # 4. 파이썬 딕셔너리 형식으로 변환\n",
        "    data = json.loads(data)\n",
        "\n",
        "    for err in data['errInfo']:\n",
        "        print(f\"입력 내용 : {err['orgStr']}\")\n",
        "        print(f\"대치어 : {err['candWord']}\")\n",
        "        print(f\"도움말 : {err['help']}\") #여기 apos; 나오고 <br/>이런거 나오는데 혹시 수정해야되면 메시지 작성 바람.\n",
        "        print(\"\\n\")\n",
        "  except:\n",
        "    print('오류가 발생하지 않았습니다. 문장이 완전합니다.')\n",
        "text = '작년 대비 소비자물가가 33%증가했다.'\n",
        "pusan_univ_spell(text)"
      ],
      "metadata": {
        "colab": {
          "base_uri": "https://localhost:8080/"
        },
        "id": "LDocRuMcPcCe",
        "outputId": "0f998385-9c59-4f04-af91-da60fc013e21"
      },
      "execution_count": 3,
      "outputs": [
        {
          "output_type": "stream",
          "name": "stdout",
          "text": [
            "입력 내용 : 33%증가했다\n",
            "대치어 : 33% 증가했다\n",
            "도움말 : 띄어쓰기 오류입니다. 대치어를 참고하여 띄어 쓰도록 합니다.\n",
            "\n",
            "\n"
          ]
        }
      ]
    }
  ]
}